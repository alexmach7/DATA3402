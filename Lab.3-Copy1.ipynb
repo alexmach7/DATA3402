{
 "cells": [
  {
   "cell_type": "markdown",
   "metadata": {},
   "source": [
    "## Lab 3\n",
    "\n",
    "In this lab we will become familiar with distributions, histograms, and functional programming. Before that, lets submit your Quiz from last lecture. Do not use numpy or any other library for this lab. \n",
    "\n",
    "### Quiz Submission\n",
    "\n",
    "The instructions here aim to have our course repository be public (enabling things like the colab links), while student repositories are private. You should be familiar with git from the first semester of this course. I assume that you all have github accounts and have setup things to be able to [push to github using ssh](https://docs.github.com/en/github/authenticating-to-github/connecting-to-github-with-ssh). The instuctions here lead you to:\n",
    "\n",
    "1. Create a directory on your personal system where you will keep all course materials.\n",
    "1. Clone the [course repository](https://github.com/UTA-DataScience/DATA3402.Fall.2023).\n",
    "1. Create a new private repository for your solutions. \n",
    "1. Copy lab notebooks from course repository to your solutions repository.\n",
    "1. Commit / push your solutions.\n",
    "1. Grant access to course instructors.\n",
    "\n",
    "Ideally, you should be able to do all of these steps yourself. Below are step by step instructions with examples (including example directory naming convention). Feel free to modify things as you see fit. The goal here to have a private repo where you can submit your solutions. \n",
    "\n",
    "1. Open a shell on your personal computer.\n",
    "1. If you have not done so already, create a new directory/folder where you will keep all course material to navigate to it. For example: `mkdir Data-3402` and `cd Data-3402`.\n",
    "1. Clone the course repository: `git clone https://github.com/UTA-DataScience/DATA3402.Fall.2023`.\n",
    "   1. Note that after the this clone, you simply need to navigate to this directory and do `git pull` to get updates (e.g. new labs).\n",
    "1. Make a new directory for your solutions and navigate to it: `mkdir DATA3402.Solutions.$USER` and `cd  DATA3402.Solutions.$USER`\n",
    "1. Make new directory for Labs and Lab 2: `mkdir Labs ; mkdir Labs/Labs.2`.\n",
    "1. Place your Quiz 1 solutions it this directory: `cp <path_to_solution> Labs/Labs.2 `\n",
    "   1. For Lab 2 and the future labs, just copy labs from the class repo, for example here: \n",
    "      * `mkdir Labs/Lab.3`\n",
    "      * `cp ../DATA3402.Fall.2023/Labs/Lab.3/Lab.3.ipynb Labs/Lab.3`\n",
    "1. Create a new git repository with same name are your directory above (i.e. `DATA3402.Solutions.$USER`). \n",
    "   * Navigate to your page on github.\n",
    "   * Use the \"+\" button to create a new repository.\n",
    "   * Make sure your repository is private.\n",
    "   * github will give you instructions on \"create a new repository on the command line\"\n",
    "1. After creating the repository, go to the repository settings tab, select \"Manage access\" on left, and press \"Invite a collaborator\" to invite course instructor (username `afarbin`). You'll do the same for our TA, once we have one for this course.\n",
    "1. To submit your labs, navigate to your private repo and \n",
    "   1. Make sure you have added the lab. For example: `git add Labs/Lab.2/Lab.2.ipynb`\n",
    "   1. Commit any changes: `git commit -a -m \"Lab 2 updates\"`\n",
    "   1. Push your changes: `git push`\n",
    "   1. Check on github that your solutions have been properly submitted.\n",
    "   \n",
    "   \n",
    "After submitting Quiz 1, continue work on lab 2, or start the remainder of this lab..."
   ]
  },
  {
   "cell_type": "markdown",
   "metadata": {},
   "source": [
    "### Uniform Distribution\n",
    "Lets start with generating some fake random data. You can get a random number between 0 and 1 using the python random module as follow:"
   ]
  },
  {
   "cell_type": "code",
   "execution_count": 1,
   "metadata": {},
   "outputs": [
    {
     "name": "stdout",
     "output_type": "stream",
     "text": [
      "The Value of x is 0.9615155548429623\n"
     ]
    }
   ],
   "source": [
    "import random\n",
    "x=random.random()\n",
    "print(\"The Value of x is\", x)"
   ]
  },
  {
   "cell_type": "markdown",
   "metadata": {},
   "source": [
    "Everytime you call random, you will get a new number.\n",
    "\n",
    "*Exercise 1:* Using random, write a function `generate_uniform(N, mymin, mymax)`, that returns a python list containing N random numbers between specified minimum and maximum value. Note that you may want to quickly work out on paper how to turn numbers between 0 and 1 to between other values. "
   ]
  },
  {
   "cell_type": "code",
   "execution_count": 4,
   "metadata": {},
   "outputs": [],
   "source": [
    "# Skeleton\n",
    "def generate_uniform(N,x_min,x_max):\n",
    "    out = []\n",
    "    ### BEGIN SOLUTION\n",
    "\n",
    "    random_numbers = []\n",
    "    \n",
    "    for _ in range(N):\n",
    "        random_number = random.uniform(x_min, x_max)\n",
    "        random_numbers.append(random_number)\n",
    "    \n",
    "    return random_numbers\n",
    "    \n",
    "    ### END SOLUTION\n",
    "    return out"
   ]
  },
  {
   "cell_type": "code",
   "execution_count": 5,
   "metadata": {},
   "outputs": [
    {
     "name": "stdout",
     "output_type": "stream",
     "text": [
      "Data Type: <class 'list'>\n",
      "Data Length: 1000\n",
      "Type of Data Contents: <class 'float'>\n",
      "Data Minimum: -9.993004593899732\n",
      "Data Maximum: 9.984433305539675\n"
     ]
    }
   ],
   "source": [
    "# Test your solution here\n",
    "data=generate_uniform(1000,-10,10)\n",
    "print (\"Data Type:\", type(data))\n",
    "print (\"Data Length:\", len(data))\n",
    "if len(data)>0: \n",
    "    print (\"Type of Data Contents:\", type(data[0]))\n",
    "    print (\"Data Minimum:\", min(data))\n",
    "    print (\"Data Maximum:\", max(data))"
   ]
  },
  {
   "cell_type": "markdown",
   "metadata": {},
   "source": [
    "*Exercise 2a:* \n",
    "Write a function that computes the mean of values in a list. Recall the equation for the mean of a random variable $\\bf{x}$ computed on a data set of $n$ values $\\{ x_i \\} = \\{x_1, x_2, ..., x_n\\}$  is ${\\bf\\bar{x}} = \\frac{1}{n} \\sum_i^n x_i$."
   ]
  },
  {
   "cell_type": "code",
   "execution_count": 10,
   "metadata": {},
   "outputs": [],
   "source": [
    "# Skeleton\n",
    "def mean(Data):\n",
    "    m=0.0\n",
    "    \n",
    "    ### BEGIN SOLUTION\n",
    "    \n",
    "    #if list is empty\n",
    "    if len(Data) == 0:\n",
    "        return None  \n",
    "    \n",
    "    #sum\n",
    "    total = sum(Data)\n",
    "\n",
    "    #mean\n",
    "    m = total / len(Data)\n",
    "    \n",
    "    ### END SOLUTION\n",
    "    \n",
    "    return m"
   ]
  },
  {
   "cell_type": "code",
   "execution_count": 11,
   "metadata": {},
   "outputs": [
    {
     "name": "stdout",
     "output_type": "stream",
     "text": [
      "Mean of Data: -0.29354883374919943\n"
     ]
    }
   ],
   "source": [
    "# Test your solution here\n",
    "print (\"Mean of Data:\", mean(data))"
   ]
  },
  {
   "cell_type": "markdown",
   "metadata": {},
   "source": [
    "*Exercise 2b:* \n",
    "Write a function that computes the variance of values in a list. Recall the equation for the variance of a random variable $\\bf{x}$ computed on a data set of $n$ values $\\{ x_i \\} = \\{x_1, x_2, ..., x_n\\}$  is ${\\bf\\langle x \\rangle} = \\frac{1}{n} \\sum_i^n (x_i - {\\bf\\bar{x}})$."
   ]
  },
  {
   "cell_type": "code",
   "execution_count": 12,
   "metadata": {},
   "outputs": [],
   "source": [
    "# Skeleton\n",
    "def variance(Data):\n",
    "    m=0.\n",
    "    \n",
    "    ### BEGIN SOLUTION\n",
    "\n",
    "    #if empty\n",
    "    if len(Data) == 0:\n",
    "        return None\n",
    "    \n",
    "    #mean\n",
    "    mean_value = sum(Data) / len(Data)\n",
    "    \n",
    "    #sum of squared differences from the mean\n",
    "    sum_squared_diff = sum((x - mean_value) ** 2 for x in Data)\n",
    "    \n",
    "    #variance\n",
    "    variance_value = sum_squared_diff / len(Data)\n",
    "    \n",
    "    return variance_value       \n",
    "    \n",
    "    ### END SOLUTION\n",
    "    \n",
    "    return m"
   ]
  },
  {
   "cell_type": "code",
   "execution_count": 13,
   "metadata": {},
   "outputs": [
    {
     "name": "stdout",
     "output_type": "stream",
     "text": [
      "Variance of Data: 35.439785838959075\n"
     ]
    }
   ],
   "source": [
    "# Test your solution here\n",
    "print (\"Variance of Data:\", variance(data))"
   ]
  },
  {
   "cell_type": "markdown",
   "metadata": {},
   "source": [
    "## Histogramming"
   ]
  },
  {
   "cell_type": "markdown",
   "metadata": {},
   "source": [
    "*Exercise 3:* Write a function that bins the data so that you can create a histogram. An example of how to implement histogramming is the following logic:\n",
    "\n",
    "* User inputs a list of values `x` and optionally `n_bins` which defaults to 10.\n",
    "* If not supplied, find the minimum and maximum (`x_min`,`x_max`) of the values in x.\n",
    "* Determine the bin size (`bin_size`) by dividing the range of the function by the number of bins.\n",
    "* Create an empty list of zeros of size `n_bins`, call it `hist`.\n",
    "* Loop over the values in `x`\n",
    "    * Loop over the values in `hist` with index `i`:\n",
    "        * If x is between `x_min+i*bin_size` and `x_min+(i+1)*bin_size`, increment `hist[i].` \n",
    "        * For efficiency, try to use continue to goto the next bin and data point.\n",
    "* Return `hist` and the list corresponding of the bin edges (i.e. of `x_min+i*bin_size`).    "
   ]
  },
  {
   "cell_type": "code",
   "execution_count": 16,
   "metadata": {},
   "outputs": [],
   "source": [
    "# Solution\n",
    "def histogram(x,n_bins=10,x_min=None,x_max=None):\n",
    "    ### BEGIN SOLUTION\n",
    "\n",
    "    if x_min is None:\n",
    "        x_min = min(x)\n",
    "    if x_max is None:\n",
    "        x_max = max(x)\n",
    "    \n",
    "    #size by range/number of bins\n",
    "    bin_size = (x_max - x_min) / n_bins\n",
    "    \n",
    "    hist = [0] * n_bins\n",
    "    bin_edges = [x_min + i * bin_size for i in range(n_bins + 1)]\n",
    "    \n",
    "    for value in x:\n",
    "        for i in range(n_bins):\n",
    "            if x_min + i * bin_size <= value < x_min + (i + 1) * bin_size:\n",
    "                hist[i] += 1\n",
    "                break  #move to next data point\n",
    "    \n",
    "    ### END SOLUTION\n",
    "\n",
    "    return hist,bin_edges"
   ]
  },
  {
   "cell_type": "code",
   "execution_count": 17,
   "metadata": {},
   "outputs": [
    {
     "name": "stdout",
     "output_type": "stream",
     "text": [
      "[14, 16, 10, 15, 17, 9, 12, 9, 11, 7, 13, 12, 11, 10, 8, 14, 7, 8, 17, 8, 12, 13, 15, 10, 9, 6, 10, 5, 8, 8, 5, 10, 9, 15, 10, 12, 9, 10, 10, 11, 12, 14, 8, 11, 7, 11, 14, 7, 7, 7, 9, 2, 13, 5, 10, 12, 9, 8, 11, 20, 5, 11, 8, 8, 1, 13, 5, 10, 8, 12, 8, 8, 5, 10, 10, 9, 12, 11, 10, 11, 10, 13, 5, 11, 11, 9, 11, 13, 14, 8, 10, 9, 8, 9, 14, 12, 6, 6, 16, 8]\n"
     ]
    }
   ],
   "source": [
    "# Test your solution here\n",
    "h,b=histogram(data,100)\n",
    "print(h)"
   ]
  },
  {
   "cell_type": "markdown",
   "metadata": {},
   "source": [
    "*Exercise 4:* Write a function that uses the histogram function in the previous exercise to create a text-based \"graph\". For example the output could look like the following:\n",
    "```\n",
    "[  0,  1] : ######\n",
    "[  1,  2] : #####\n",
    "[  2,  3] : ######\n",
    "[  3,  4] : ####\n",
    "[  4,  5] : ####\n",
    "[  5,  6] : ######\n",
    "[  6,  7] : #####\n",
    "[  7,  8] : ######\n",
    "[  8,  9] : ####\n",
    "[  9, 10] : #####\n",
    "```\n",
    "\n",
    "Where each line corresponds to a bin and the number of `#`'s are proportional to the value of the data in the bin. "
   ]
  },
  {
   "cell_type": "code",
   "execution_count": 18,
   "metadata": {},
   "outputs": [],
   "source": [
    "# Solution\n",
    "def draw_histogram(x,n_bins,x_min=None,x_max=None,character=\"#\",max_character_per_line=20):\n",
    "    ### BEGIN SOLUTION\n",
    "    hist, bin_edges = histogram(x, n_bins, x_min, x_max)\n",
    "\n",
    "    histogram_string = \"\"\n",
    "    for i in range(n_bins):\n",
    "        bin_range = f\"[{int(bin_edges[i]):>3}, {int(bin_edges[i+1]):>3}] : \"\n",
    "        bar = character * hist[i]\n",
    "        \n",
    "        #check it isnt bigger than max\n",
    "        if len(bar) > max_character_per_line:\n",
    "            bar = bar[:max_character_per_line]\n",
    "        \n",
    "        histogram_string += bin_range + bar + '\\n'\n",
    "    \n",
    "    return histogram_string      \n",
    "    \n",
    "    ### END SOLUTION\n",
    "\n",
    "    return hist,bin_edges"
   ]
  },
  {
   "cell_type": "code",
   "execution_count": 20,
   "metadata": {},
   "outputs": [
    {
     "name": "stdout",
     "output_type": "stream",
     "text": [
      "[  0,   1] : #\n",
      "[  1,   1] : #\n",
      "[  1,   2] : #\n",
      "[  2,   2] : #\n",
      "[  2,   3] : ##\n",
      "[  3,   3] : #\n",
      "[  3,   4] : #\n",
      "[  4,   4] : \n",
      "[  4,   5] : #\n",
      "[  5,   6] : \n",
      "\n"
     ]
    }
   ],
   "source": [
    "# Test your solution here\n",
    "h,b=histogram(data,20)\n",
    "\n",
    "data = [0.5, 1.3, 1.8, 2.4, 2.7, 3.1, 3.8, 4.2, 4.9, 6.0]\n",
    "histogram_string = draw_histogram(data, n_bins=10)\n",
    "print(histogram_string)"
   ]
  },
  {
   "cell_type": "markdown",
   "metadata": {},
   "source": [
    "## Functional Programming\n",
    "\n",
    "*Exercise 5:* Write a function the applies a booling function (that returns true/false) to every element in data, and return a list of indices of elements where the result was true. Use this function to find the indices of entries greater than 0.5. "
   ]
  },
  {
   "cell_type": "code",
   "execution_count": 23,
   "metadata": {},
   "outputs": [],
   "source": [
    "def where(mylist,myfunc):\n",
    "    out= []\n",
    "    \n",
    "    ### BEGIN SOLUTION\n",
    "    for i, element in enumerate(mylist):\n",
    "        if myfunc(element):\n",
    "            out.append(i)       \n",
    "    \n",
    "    ### END SOLUTION\n",
    "    \n",
    "    return out"
   ]
  },
  {
   "cell_type": "code",
   "execution_count": 24,
   "metadata": {},
   "outputs": [
    {
     "name": "stdout",
     "output_type": "stream",
     "text": [
      "[1, 3, 5]\n"
     ]
    }
   ],
   "source": [
    "# Test your solution here\n",
    "data = [0.2, 0.7, 0.4, 0.9, 0.3, 0.6]\n",
    "result = where(data, lambda x: x > 0.5)\n",
    "print(result)"
   ]
  },
  {
   "cell_type": "markdown",
   "metadata": {},
   "source": [
    "*Exercise 6:* The `inrange(mymin,mymax)` function below returns a function that tests if it's input is between the specified values. Write corresponding functions that test:\n",
    "* Even\n",
    "* Odd\n",
    "* Greater than\n",
    "* Less than\n",
    "* Equal\n",
    "* Divisible by"
   ]
  },
  {
   "cell_type": "code",
   "execution_count": 29,
   "metadata": {},
   "outputs": [
    {
     "ename": "NameError",
     "evalue": "name 'inrange' is not defined",
     "output_type": "error",
     "traceback": [
      "\u001b[1;31m---------------------------------------------------------------------------\u001b[0m",
      "\u001b[1;31mNameError\u001b[0m                                 Traceback (most recent call last)",
      "\u001b[1;32m~\\AppData\\Local\\Temp\\ipykernel_11176\\258301967.py\u001b[0m in \u001b[0;36m<module>\u001b[1;34m\u001b[0m\n\u001b[0;32m      5\u001b[0m \u001b[1;33m\u001b[0m\u001b[0m\n\u001b[0;32m      6\u001b[0m \u001b[1;31m# Examples:\u001b[0m\u001b[1;33m\u001b[0m\u001b[1;33m\u001b[0m\u001b[0m\n\u001b[1;32m----> 7\u001b[1;33m \u001b[0mF1\u001b[0m\u001b[1;33m=\u001b[0m\u001b[0minrange\u001b[0m\u001b[1;33m(\u001b[0m\u001b[1;36m0\u001b[0m\u001b[1;33m,\u001b[0m\u001b[1;36m10\u001b[0m\u001b[1;33m)\u001b[0m\u001b[1;33m\u001b[0m\u001b[1;33m\u001b[0m\u001b[0m\n\u001b[0m\u001b[0;32m      8\u001b[0m \u001b[0mF2\u001b[0m\u001b[1;33m=\u001b[0m\u001b[0minrange\u001b[0m\u001b[1;33m(\u001b[0m\u001b[1;36m10\u001b[0m\u001b[1;33m,\u001b[0m\u001b[1;36m20\u001b[0m\u001b[1;33m)\u001b[0m\u001b[1;33m\u001b[0m\u001b[1;33m\u001b[0m\u001b[0m\n\u001b[0;32m      9\u001b[0m \u001b[1;33m\u001b[0m\u001b[0m\n",
      "\u001b[1;31mNameError\u001b[0m: name 'inrange' is not defined"
     ]
    }
   ],
   "source": [
    "def in_range(mymin,mymax):\n",
    "    def testrange(x):\n",
    "        return x<mymax and x>=mymin\n",
    "    return testrange\n",
    "\n",
    "# Examples:\n",
    "F1=inrange(0,10)\n",
    "F2=inrange(10,20)\n",
    "\n",
    "# Test of in_range\n",
    "print (F1(0), F1(1), F1(10), F1(15), F1(20))\n",
    "print (F2(0), F2(1), F2(10), F2(15), F2(20))\n",
    "\n",
    "print (\"Number of Entries passing F1:\", len(where(data,F1)))\n",
    "print (\"Number of Entries passing F2:\", len(where(data,F2)))"
   ]
  },
  {
   "cell_type": "code",
   "execution_count": 30,
   "metadata": {},
   "outputs": [],
   "source": [
    "### BEGIN SOLUTION\n",
    "\n",
    "def is_even(x):\n",
    "    return x % 2 == 0\n",
    "\n",
    "def is_odd(x):\n",
    "    return x % 2 != 0\n",
    "\n",
    "def greater_than(value):\n",
    "    def test(x):\n",
    "        return x > value\n",
    "    return test\n",
    "\n",
    "def less_than(value):\n",
    "    def test(x):\n",
    "        return x < value\n",
    "    return test\n",
    "\n",
    "def is_equal(value):\n",
    "    def test(x):\n",
    "        return x == value\n",
    "    return test\n",
    "      \n",
    "def divisible_by(divisor):\n",
    "    def test(x):\n",
    "        return x % divisor == 0\n",
    "    return test\n",
    "\n",
    "#ex\n",
    "F1 = in_range(0, 10)\n",
    "F2 = in_range(10, 20)  \n",
    "\n",
    "### END SOLUTION"
   ]
  },
  {
   "cell_type": "code",
   "execution_count": 31,
   "metadata": {},
   "outputs": [
    {
     "name": "stdout",
     "output_type": "stream",
     "text": [
      "F1(0): True\n",
      "F1(1): True\n",
      "F1(10): False\n",
      "F1(15): False\n",
      "F1(20): False\n",
      "F2(0): False\n",
      "F2(1): False\n",
      "F2(10): True\n",
      "F2(15): True\n",
      "F2(20): False\n",
      "Even numbers: 5\n",
      "Odd numbers: 5\n",
      "Greater than 3: 6\n",
      "Less than 5: 5\n",
      "Equal to 7: 1\n",
      "Divisible by 2: 5\n"
     ]
    }
   ],
   "source": [
    "# Test your solution\n",
    "# Test of in_range\n",
    "print(\"F1(0):\", F1(0))\n",
    "print(\"F1(1):\", F1(1))\n",
    "print(\"F1(10):\", F1(10))\n",
    "print(\"F1(15):\", F1(15))\n",
    "print(\"F1(20):\", F1(20))\n",
    "\n",
    "print(\"F2(0):\", F2(0))\n",
    "print(\"F2(1):\", F2(1))\n",
    "print(\"F2(10):\", F2(10))\n",
    "print(\"F2(15):\", F2(15))\n",
    "print(\"F2(20):\", F2(20))\n",
    "\n",
    "#test conditions\n",
    "data = [0, 1, 2, 3, 4, 5, 6, 7, 8, 9]\n",
    "print(\"Even numbers:\", len(where(data, is_even)))\n",
    "print(\"Odd numbers:\", len(where(data, is_odd)))\n",
    "print(\"Greater than 3:\", len(where(data, greater_than(3))))\n",
    "print(\"Less than 5:\", len(where(data, less_than(5))))\n",
    "print(\"Equal to 7:\", len(where(data, is_equal(7))))\n",
    "print(\"Divisible by 2:\", len(where(data, divisible_by(2))))"
   ]
  },
  {
   "cell_type": "markdown",
   "metadata": {},
   "source": [
    "*Exercise 7:* Repeat the previous exercise using `lambda` and the built-in python functions sum and map instead of your solution above. "
   ]
  },
  {
   "cell_type": "code",
   "execution_count": 32,
   "metadata": {},
   "outputs": [
    {
     "name": "stdout",
     "output_type": "stream",
     "text": [
      "Even numbers: 5\n",
      "Odd numbers: 5\n",
      "Greater than 3: 6\n",
      "Less than 5: 5\n",
      "Equal to 7: 1\n",
      "Divisible by 2: 5\n"
     ]
    }
   ],
   "source": [
    "### BEGIN SOLUTION\n",
    "\n",
    "data = [0, 1, 2, 3, 4, 5, 6, 7, 8, 9]\n",
    "\n",
    "even_count = sum(map(lambda x: x % 2 == 0, data))\n",
    "\n",
    "odd_count = sum(map(lambda x: x % 2 != 0, data))\n",
    "\n",
    "greater_than_3_count = sum(map(lambda x: x > 3, data))\n",
    "\n",
    "less_than_5_count = sum(map(lambda x: x < 5, data))\n",
    "\n",
    "equal_to_7_count = sum(map(lambda x: x == 7, data))\n",
    "\n",
    "divisible_by_2_count = sum(map(lambda x: x % 2 == 0, data))\n",
    "\n",
    "print(\"Even numbers:\", even_count)\n",
    "print(\"Odd numbers:\", odd_count)\n",
    "print(\"Greater than 3:\", greater_than_3_count)\n",
    "print(\"Less than 5:\", less_than_5_count)\n",
    "print(\"Equal to 7:\", equal_to_7_count)\n",
    "print(\"Divisible by 2:\", divisible_by_2_count)\n",
    "\n",
    "### END SOLUTION"
   ]
  },
  {
   "cell_type": "markdown",
   "metadata": {},
   "source": [
    "## Monte Carlo\n",
    "\n",
    "*Exercise 7:* Write a \"generator\" function called `generate_function(func,x_min,x_max,N)`, that instead of generating a flat distribution, generates a distribution with functional form coded in `func`. Note that `func` will always be > 0.  \n",
    "\n",
    "Use the test function below and your histogramming functions above to demonstrate that your generator is working properly.\n",
    "\n",
    "Hint: A simple, but slow, solution is to a draw random number `test_x` within the specified range and another number `p` between the `min` and `max` of the function (which you will have to determine). If `p<=function(test_x)`, then place `test_x` on the output. If not, repeat the process, drawing two new numbers. Repeat until you have the specified number of generated numbers, `N`. For this problem, it's OK to determine the `min` and `max` by numerically sampling the function.  "
   ]
  },
  {
   "cell_type": "code",
   "execution_count": 35,
   "metadata": {},
   "outputs": [],
   "source": [
    "def generate_function(func,x_min,x_max,N=1000):\n",
    "    out = list()\n",
    "    ### BEGIN SOLUTION\n",
    "#    out = []\n",
    "    \n",
    "    #determine min and max\n",
    "    min_val = float(\"inf\")\n",
    "    max_val = float(\"-inf\")\n",
    "    for _ in range(100):  #sample 100 times\n",
    "        test_x = random.uniform(x_min, x_max)\n",
    "        test_y = func(test_x)\n",
    "        if test_y < min_val:\n",
    "            min_val = test_y\n",
    "        if test_y > max_val:\n",
    "            max_val = test_y\n",
    "    \n",
    "    while len(out) < N:\n",
    "        test_x = random.uniform(x_min, x_max)\n",
    "        test_y = random.uniform(min_val, max_val)\n",
    "        if test_y <= func(test_x):\n",
    "            out.append(test_x)\n",
    "    \n",
    "    return out \n",
    "    \n",
    "    ### END SOLUTION\n",
    "    \n",
    "    return out"
   ]
  },
  {
   "cell_type": "code",
   "execution_count": 36,
   "metadata": {},
   "outputs": [],
   "source": [
    "# A test function\n",
    "def test_func(x,a=1,b=1):\n",
    "    return abs(a*x+b)"
   ]
  },
  {
   "cell_type": "code",
   "execution_count": 37,
   "metadata": {},
   "outputs": [
    {
     "name": "stdout",
     "output_type": "stream",
     "text": [
      "[  0,   1] : ##########\n",
      "[  1,   1] : ###################\n",
      "[  1,   1] : ####################\n",
      "[  1,   2] : ####################\n",
      "[  2,   2] : ####################\n",
      "[  2,   3] : ####################\n",
      "[  3,   3] : ####################\n",
      "[  3,   4] : ####################\n",
      "[  4,   4] : ####################\n",
      "[  4,   5] : ####################\n",
      "[  5,   5] : ####################\n",
      "[  5,   6] : ####################\n",
      "[  6,   6] : ####################\n",
      "[  6,   7] : ####################\n",
      "[  7,   7] : ####################\n",
      "[  7,   8] : ####################\n",
      "[  8,   8] : ####################\n",
      "[  8,   9] : ####################\n",
      "[  9,   9] : ####################\n",
      "[  9,   9] : ####################\n",
      "\n"
     ]
    }
   ],
   "source": [
    "def test_function(x):\n",
    "    return 0.1 * x**2\n",
    "\n",
    "data_points = generate_function(test_function, 0, 10, N=10000)\n",
    "\n",
    "#plot\n",
    "histogram_string = draw_histogram(data_points, n_bins=20)\n",
    "print(histogram_string)"
   ]
  },
  {
   "cell_type": "markdown",
   "metadata": {},
   "source": [
    "*Exercise 8:* Use your function to generate 1000 numbers that are normal distributed, using the `gaussian` function below. Confirm the mean and variance of the data is close to the mean and variance you specify when building the Gaussian. Histogram the data. "
   ]
  },
  {
   "cell_type": "code",
   "execution_count": 39,
   "metadata": {},
   "outputs": [],
   "source": [
    "import math\n",
    "\n",
    "def gaussian(mean, sigma):\n",
    "    def f(x):\n",
    "        return math.exp(-((x-mean)**2)/(2*sigma**2))/math.sqrt(math.pi*sigma)\n",
    "    return f\n",
    "\n",
    "# Example Instantiation\n",
    "g1=gaussian(0,1)\n",
    "g2=gaussian(10,3)"
   ]
  },
  {
   "cell_type": "code",
   "execution_count": 40,
   "metadata": {},
   "outputs": [
    {
     "name": "stdout",
     "output_type": "stream",
     "text": [
      "Mean: 0.01669598680818594\n",
      "Variance: 1.0137759116055851\n",
      "[ -3,  -2] : #\n",
      "[ -2,  -2] : #\n",
      "[ -2,  -2] : #########\n",
      "[ -2,  -1] : ###############\n",
      "[ -1,  -1] : ####################\n",
      "[ -1,  -1] : ####################\n",
      "[ -1,   0] : ####################\n",
      "[  0,   0] : ####################\n",
      "[  0,   0] : ####################\n",
      "[  0,   0] : ####################\n",
      "[  0,   0] : ####################\n",
      "[  0,   0] : ####################\n",
      "[  0,   1] : ####################\n",
      "[  1,   1] : ####################\n",
      "[  1,   1] : ####################\n",
      "[  1,   2] : ##############\n",
      "[  2,   2] : ####\n",
      "[  2,   3] : #####\n",
      "[  3,   3] : #\n",
      "[  3,   3] : \n",
      "\n"
     ]
    }
   ],
   "source": [
    "data_points = generate_function(g1, -5, 5, N=1000)\n",
    "\n",
    "#mean and variance\n",
    "mean_value = sum(data_points) / len(data_points)\n",
    "variance_value = sum((x - mean_value)**2 for x in data_points) / len(data_points)\n",
    "\n",
    "print(\"Mean:\", mean_value)\n",
    "print(\"Variance:\", variance_value)\n",
    "\n",
    "#plot\n",
    "histogram_string = draw_histogram(data_points, n_bins=20)\n",
    "print(histogram_string)"
   ]
  },
  {
   "cell_type": "markdown",
   "metadata": {},
   "source": [
    "*Exercise 9:* Combine your `generate_function`, `where`, and `in_range` functions above to create an integrate function. Use your integrate function to show that approximately 68% of Normal distribution is within one variance."
   ]
  },
  {
   "cell_type": "code",
   "execution_count": 43,
   "metadata": {},
   "outputs": [],
   "source": [
    "def integrate(func, x_min, x_max, n_points=1000):\n",
    "    \n",
    "    return integral"
   ]
  },
  {
   "cell_type": "code",
   "execution_count": 45,
   "metadata": {},
   "outputs": [
    {
     "name": "stdout",
     "output_type": "stream",
     "text": [
      "Integral: 0.9654687363885474\n"
     ]
    }
   ],
   "source": [
    "def integrate(func, x_min, x_max, n_points=1000):\n",
    "    step = (x_max - x_min) / n_points\n",
    "    \n",
    "    integral = 0.0\n",
    "    \n",
    "    #trapezoidal rule integration\n",
    "    for i in range(n_points):\n",
    "        x0 = x_min + i * step\n",
    "        x1 = x_min + (i + 1) * step\n",
    "        integral += (func(x0) + func(x1)) * step / 2.0\n",
    "    \n",
    "    return integral\n",
    "\n",
    "g1 = gaussian(0, 1)\n",
    "\n",
    "result = integrate(g1, -1, 1, n_points=10000)\n",
    "\n",
    "print(\"Integral:\", result)\n"
   ]
  },
  {
   "cell_type": "code",
   "execution_count": null,
   "metadata": {},
   "outputs": [],
   "source": []
  }
 ],
 "metadata": {
  "kernelspec": {
   "display_name": "Python 3 (ipykernel)",
   "language": "python",
   "name": "python3"
  },
  "language_info": {
   "codemirror_mode": {
    "name": "ipython",
    "version": 3
   },
   "file_extension": ".py",
   "mimetype": "text/x-python",
   "name": "python",
   "nbconvert_exporter": "python",
   "pygments_lexer": "ipython3",
   "version": "3.9.13"
  }
 },
 "nbformat": 4,
 "nbformat_minor": 2
}
