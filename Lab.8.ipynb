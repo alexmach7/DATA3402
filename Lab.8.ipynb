{
 "cells": [
  {
   "cell_type": "markdown",
   "metadata": {},
   "source": [
    "# Lab 8- Deep Learning Model\n",
    "\n",
    "This lab is meant to get you started in using Keras to design Deep Neural Networks. The goal here is to simply repeat your previous lab, but with DNNs.\n",
    "\n",
    "Let's start with reading the data, like before:"
   ]
  },
  {
   "cell_type": "code",
   "execution_count": 1,
   "metadata": {},
   "outputs": [],
   "source": [
    "import pandas as pd\n",
    "import numpy as np\n",
    "import matplotlib.pyplot as plt\n",
    "%matplotlib inline\n",
    "\n",
    "#filename=\"../Lab.5/SUSY.csv\"\n",
    "#filename=\"../Downloads/data3402/SUSY.csv.gv\"\n",
    "filename=\"C:/Users/aemsh/Downloads/data3402/SUSY.csv.gz\"\n",
    "VarNames=[\"signal\", \"l_1_pT\", \"l_1_eta\",\"l_1_phi\", \"l_2_pT\", \"l_2_eta\", \"l_2_phi\", \"MET\", \"MET_phi\", \"MET_rel\", \"axial_MET\", \"M_R\", \"M_TR_2\", \"R\", \"MT2\", \"S_R\", \"M_Delta_R\", \"dPhi_r_b\", \"cos_theta_r1\"]\n",
    "RawNames=[\"l_1_pT\", \"l_1_eta\",\"l_1_phi\", \"l_2_pT\", \"l_2_eta\", \"l_2_phi\",\"MET\", \"MET_phi\", \"MET_rel\", \"axial_MET\"]\n",
    "FeatureNames=[\"M_R\", \"M_TR_2\", \"R\", \"MT2\", \"S_R\", \"M_Delta_R\", \"dPhi_r_b\", \"cos_theta_r1\"]\n",
    "\n",
    "df = pd.read_csv(filename, dtype='float64', names=VarNames)"
   ]
  },
  {
   "cell_type": "markdown",
   "metadata": {},
   "source": [
    "Now lets define training and test samples. Note that DNNs take very long to train, so for testing purposes we will use only about 10% of the 5 million events in the training/validation sample. Once you get everything working, make the final version of your plots with the full sample. \n",
    "\n",
    "Also note that Keras had trouble with the Pandas tensors, so after doing all of the nice manipulation that Pandas enables, we convert the Tensor to a regular numpy tensor."
   ]
  },
  {
   "cell_type": "code",
   "execution_count": 2,
   "metadata": {},
   "outputs": [],
   "source": [
    "N_Max=550000\n",
    "N_Train=500000\n",
    "\n",
    "Train_Sample=df[:N_Train]\n",
    "Test_Sample=df[N_Train:N_Max]\n",
    "\n",
    "X_Train=np.array(Train_Sample[VarNames[1:]])\n",
    "y_Train=np.array(Train_Sample[\"signal\"])\n",
    "\n",
    "X_Test=np.array(Test_Sample[VarNames[1:]])\n",
    "y_Test=np.array(Test_Sample[\"signal\"])\n"
   ]
  },
  {
   "cell_type": "code",
   "execution_count": 3,
   "metadata": {},
   "outputs": [
    {
     "data": {
      "text/plain": [
       "(500000, 18)"
      ]
     },
     "execution_count": 3,
     "metadata": {},
     "output_type": "execute_result"
    }
   ],
   "source": [
    "X_Train.shape"
   ]
  },
  {
   "cell_type": "code",
   "execution_count": 4,
   "metadata": {},
   "outputs": [
    {
     "name": "stderr",
     "output_type": "stream",
     "text": [
      "C:\\Users\\aemsh\\anaconda3\\lib\\site-packages\\scipy\\__init__.py:155: UserWarning: A NumPy version >=1.18.5 and <1.25.0 is required for this version of SciPy (detected version 1.26.2\n",
      "  warnings.warn(f\"A NumPy version >={np_minversion} and <{np_maxversion}\"\n"
     ]
    },
    {
     "name": "stdout",
     "output_type": "stream",
     "text": [
      "WARNING:tensorflow:From C:\\Users\\aemsh\\anaconda3\\lib\\site-packages\\keras\\src\\losses.py:2976: The name tf.losses.sparse_softmax_cross_entropy is deprecated. Please use tf.compat.v1.losses.sparse_softmax_cross_entropy instead.\n",
      "\n"
     ]
    }
   ],
   "source": [
    "import tensorflow as tf"
   ]
  },
  {
   "cell_type": "code",
   "execution_count": 5,
   "metadata": {},
   "outputs": [
    {
     "name": "stdout",
     "output_type": "stream",
     "text": [
      "WARNING:tensorflow:From C:\\Users\\aemsh\\anaconda3\\lib\\site-packages\\keras\\src\\backend.py:873: The name tf.get_default_graph is deprecated. Please use tf.compat.v1.get_default_graph instead.\n",
      "\n"
     ]
    }
   ],
   "source": [
    "from tensorflow.keras.models import Sequential\n",
    "from tensorflow.keras.layers import Dense\n",
    "\n",
    "model = Sequential()\n",
    "model.add(Dense(12, input_dim=X_Train.shape[1], activation='relu'))\n",
    "model.add(Dense(8, activation='relu'))\n",
    "model.add(Dense(8, activation='relu'))\n",
    "model.add(Dense(1, activation='sigmoid'))"
   ]
  },
  {
   "cell_type": "code",
   "execution_count": 6,
   "metadata": {},
   "outputs": [
    {
     "name": "stdout",
     "output_type": "stream",
     "text": [
      "Model: \"sequential\"\n",
      "_________________________________________________________________\n",
      " Layer (type)                Output Shape              Param #   \n",
      "=================================================================\n",
      " dense (Dense)               (None, 12)                228       \n",
      "                                                                 \n",
      " dense_1 (Dense)             (None, 8)                 104       \n",
      "                                                                 \n",
      " dense_2 (Dense)             (None, 8)                 72        \n",
      "                                                                 \n",
      " dense_3 (Dense)             (None, 1)                 9         \n",
      "                                                                 \n",
      "=================================================================\n",
      "Total params: 413 (1.61 KB)\n",
      "Trainable params: 413 (1.61 KB)\n",
      "Non-trainable params: 0 (0.00 Byte)\n",
      "_________________________________________________________________\n"
     ]
    }
   ],
   "source": [
    "model.summary()"
   ]
  },
  {
   "cell_type": "markdown",
   "metadata": {},
   "source": [
    "## Exercise 1\n",
    "\n",
    "You will need to create several models and make sure they are properly trained. Write a function that takes this history and plots the values versus epoch. For every model that you train in the remainder of this lab, assess:\n",
    "\n",
    "* Has you model's performance plateaued? If not train for more epochs. \n",
    "* Compare the performance on training versus test sample. Are you over training?"
   ]
  },
  {
   "cell_type": "code",
   "execution_count": 7,
   "metadata": {},
   "outputs": [
    {
     "name": "stdout",
     "output_type": "stream",
     "text": [
      "Epoch 1/20\n",
      "WARNING:tensorflow:From C:\\Users\\aemsh\\anaconda3\\lib\\site-packages\\keras\\src\\utils\\tf_utils.py:492: The name tf.ragged.RaggedTensorValue is deprecated. Please use tf.compat.v1.ragged.RaggedTensorValue instead.\n",
      "\n",
      "WARNING:tensorflow:From C:\\Users\\aemsh\\anaconda3\\lib\\site-packages\\keras\\src\\engine\\base_layer_utils.py:384: The name tf.executing_eagerly_outside_functions is deprecated. Please use tf.compat.v1.executing_eagerly_outside_functions instead.\n",
      "\n",
      "25000/25000 [==============================] - 62s 2ms/step - loss: 0.4707 - accuracy: 0.7794 - val_loss: 0.4592 - val_accuracy: 0.7862\n",
      "Epoch 2/20\n",
      "25000/25000 [==============================] - 55s 2ms/step - loss: 0.4581 - accuracy: 0.7867 - val_loss: 0.4561 - val_accuracy: 0.7875\n",
      "Epoch 3/20\n",
      "25000/25000 [==============================] - 57s 2ms/step - loss: 0.4567 - accuracy: 0.7875 - val_loss: 0.4560 - val_accuracy: 0.7879\n",
      "Epoch 4/20\n",
      "25000/25000 [==============================] - 56s 2ms/step - loss: 0.4560 - accuracy: 0.7879 - val_loss: 0.4549 - val_accuracy: 0.7882\n",
      "Epoch 5/20\n",
      "25000/25000 [==============================] - 56s 2ms/step - loss: 0.4555 - accuracy: 0.7881 - val_loss: 0.4554 - val_accuracy: 0.7883\n",
      "Epoch 6/20\n",
      "25000/25000 [==============================] - 56s 2ms/step - loss: 0.4552 - accuracy: 0.7883 - val_loss: 0.4558 - val_accuracy: 0.7879\n",
      "Epoch 7/20\n",
      "25000/25000 [==============================] - 57s 2ms/step - loss: 0.4549 - accuracy: 0.7884 - val_loss: 0.4549 - val_accuracy: 0.7886\n",
      "Epoch 8/20\n",
      "25000/25000 [==============================] - 56s 2ms/step - loss: 0.4546 - accuracy: 0.7886 - val_loss: 0.4544 - val_accuracy: 0.7888\n",
      "Epoch 9/20\n",
      "25000/25000 [==============================] - 57s 2ms/step - loss: 0.4544 - accuracy: 0.7888 - val_loss: 0.4548 - val_accuracy: 0.7891\n",
      "Epoch 10/20\n",
      "25000/25000 [==============================] - 59s 2ms/step - loss: 0.4542 - accuracy: 0.7889 - val_loss: 0.4542 - val_accuracy: 0.7891\n",
      "Epoch 11/20\n",
      "25000/25000 [==============================] - 57s 2ms/step - loss: 0.4540 - accuracy: 0.7890 - val_loss: 0.4545 - val_accuracy: 0.7888\n",
      "Epoch 12/20\n",
      "25000/25000 [==============================] - 58s 2ms/step - loss: 0.4539 - accuracy: 0.7890 - val_loss: 0.4535 - val_accuracy: 0.7892\n",
      "Epoch 13/20\n",
      "25000/25000 [==============================] - 58s 2ms/step - loss: 0.4537 - accuracy: 0.7890 - val_loss: 0.4530 - val_accuracy: 0.7894\n",
      "Epoch 14/20\n",
      "25000/25000 [==============================] - 58s 2ms/step - loss: 0.4536 - accuracy: 0.7890 - val_loss: 0.4532 - val_accuracy: 0.7894\n",
      "Epoch 15/20\n",
      "25000/25000 [==============================] - 58s 2ms/step - loss: 0.4535 - accuracy: 0.7891 - val_loss: 0.4529 - val_accuracy: 0.7894\n",
      "Epoch 16/20\n",
      "25000/25000 [==============================] - 58s 2ms/step - loss: 0.4534 - accuracy: 0.7892 - val_loss: 0.4551 - val_accuracy: 0.7883\n",
      "Epoch 17/20\n",
      "25000/25000 [==============================] - 58s 2ms/step - loss: 0.4533 - accuracy: 0.7892 - val_loss: 0.4535 - val_accuracy: 0.7892\n",
      "Epoch 18/20\n",
      "25000/25000 [==============================] - 58s 2ms/step - loss: 0.4532 - accuracy: 0.7892 - val_loss: 0.4527 - val_accuracy: 0.7896\n",
      "Epoch 19/20\n",
      "25000/25000 [==============================] - 58s 2ms/step - loss: 0.4531 - accuracy: 0.7892 - val_loss: 0.4531 - val_accuracy: 0.7894\n",
      "Epoch 20/20\n",
      "25000/25000 [==============================] - 59s 2ms/step - loss: 0.4530 - accuracy: 0.7892 - val_loss: 0.4530 - val_accuracy: 0.7894\n",
      "31250/31250 [==============================] - 50s 2ms/step - loss: 0.4531 - accuracy: 0.7895\n",
      "Test Loss: 0.4531117081642151\n",
      "Test Accuracy: 0.7894589900970459\n"
     ]
    },
    {
     "ename": "NameError",
     "evalue": "name 'plot_metrics_vs_epoch' is not defined",
     "output_type": "error",
     "traceback": [
      "\u001b[1;31m---------------------------------------------------------------------------\u001b[0m",
      "\u001b[1;31mNameError\u001b[0m                                 Traceback (most recent call last)",
      "\u001b[1;32m~\\AppData\\Local\\Temp\\ipykernel_23460\\563895166.py\u001b[0m in \u001b[0;36m<module>\u001b[1;34m\u001b[0m\n\u001b[0;32m     39\u001b[0m \u001b[0mprint\u001b[0m\u001b[1;33m(\u001b[0m\u001b[1;34mf\"Test Accuracy: {test_accuracy}\"\u001b[0m\u001b[1;33m)\u001b[0m\u001b[1;33m\u001b[0m\u001b[1;33m\u001b[0m\u001b[0m\n\u001b[0;32m     40\u001b[0m \u001b[1;33m\u001b[0m\u001b[0m\n\u001b[1;32m---> 41\u001b[1;33m plot_metrics_vs_epoch(\n\u001b[0m\u001b[0;32m     42\u001b[0m     \u001b[1;33m{\u001b[0m\u001b[1;34m\"accuracy\"\u001b[0m\u001b[1;33m:\u001b[0m \u001b[0mhistory\u001b[0m\u001b[1;33m.\u001b[0m\u001b[0mhistory\u001b[0m\u001b[1;33m[\u001b[0m\u001b[1;34m\"accuracy\"\u001b[0m\u001b[1;33m]\u001b[0m\u001b[1;33m,\u001b[0m \u001b[1;34m\"loss\"\u001b[0m\u001b[1;33m:\u001b[0m \u001b[0mhistory\u001b[0m\u001b[1;33m.\u001b[0m\u001b[0mhistory\u001b[0m\u001b[1;33m[\u001b[0m\u001b[1;34m\"loss\"\u001b[0m\u001b[1;33m]\u001b[0m\u001b[1;33m}\u001b[0m\u001b[1;33m,\u001b[0m\u001b[1;33m\u001b[0m\u001b[1;33m\u001b[0m\u001b[0m\n\u001b[0;32m     43\u001b[0m     \u001b[1;33m{\u001b[0m\u001b[1;34m\"accuracy\"\u001b[0m\u001b[1;33m:\u001b[0m \u001b[0mhistory\u001b[0m\u001b[1;33m.\u001b[0m\u001b[0mhistory\u001b[0m\u001b[1;33m[\u001b[0m\u001b[1;34m\"val_accuracy\"\u001b[0m\u001b[1;33m]\u001b[0m\u001b[1;33m,\u001b[0m \u001b[1;34m\"loss\"\u001b[0m\u001b[1;33m:\u001b[0m \u001b[0mhistory\u001b[0m\u001b[1;33m.\u001b[0m\u001b[0mhistory\u001b[0m\u001b[1;33m[\u001b[0m\u001b[1;34m\"val_loss\"\u001b[0m\u001b[1;33m]\u001b[0m\u001b[1;33m}\u001b[0m\u001b[1;33m,\u001b[0m\u001b[1;33m\u001b[0m\u001b[1;33m\u001b[0m\u001b[0m\n",
      "\u001b[1;31mNameError\u001b[0m: name 'plot_metrics_vs_epoch' is not defined"
     ]
    }
   ],
   "source": [
    "from sklearn.model_selection import train_test_split\n",
    "from sklearn.preprocessing import StandardScaler\n",
    "from tensorflow.keras.models import Sequential\n",
    "from tensorflow.keras.layers import Dense\n",
    "from tensorflow.keras.optimizers import Adam\n",
    "import matplotlib.pyplot as plt\n",
    "\n",
    "np.random.seed(42)\n",
    "tf.random.set_seed(42)\n",
    "\n",
    "X = df[FeatureNames]\n",
    "y = df[\"signal\"]\n",
    "\n",
    "# split\n",
    "X_train, X_test, y_train, y_test = train_test_split(X, y, test_size=0.2, random_state=42)\n",
    "\n",
    "scaler = StandardScaler()\n",
    "X_train_scaled = scaler.fit_transform(X_train)\n",
    "X_test_scaled = scaler.transform(X_test)\n",
    "\n",
    "model = Sequential()\n",
    "model.add(Dense(12, input_dim=X_train_scaled.shape[1], activation='relu'))\n",
    "model.add(Dense(8, activation='relu'))\n",
    "model.add(Dense(8, activation='relu'))\n",
    "model.add(Dense(1, activation='sigmoid'))\n",
    "\n",
    "model.compile(optimizer=Adam(), loss='binary_crossentropy', metrics=['accuracy'])\n",
    "\n",
    "# train\n",
    "history = model.fit(\n",
    "    X_train_scaled, y_train,\n",
    "    epochs=20,  \n",
    "    batch_size=128,  \n",
    "    validation_split=0.2 \n",
    ")\n",
    "\n",
    "test_loss, test_accuracy = model.evaluate(X_test_scaled, y_test)\n",
    "print(f\"Test Loss: {test_loss}\")\n",
    "print(f\"Test Accuracy: {test_accuracy}\")\n",
    "\n",
    "plot_metrics_vs_epoch(\n",
    "    {\"accuracy\": history.history[\"accuracy\"], \"loss\": history.history[\"loss\"]},\n",
    "    {\"accuracy\": history.history[\"val_accuracy\"], \"loss\": history.history[\"val_loss\"]},\n",
    "    \"Neural Network\",\n",
    "    metrics=(\"accuracy\", \"loss\")\n",
    ")\n"
   ]
  },
  {
   "cell_type": "code",
   "execution_count": 8,
   "metadata": {},
   "outputs": [
    {
     "data": {
      "image/png": "[encoded data removed]",
      "text/plain": [
       "<Figure size 1200x600 with 1 Axes>"
      ]
     },
     "metadata": {},
     "output_type": "display_data"
    }
   ],
   "source": [
    "import matplotlib.pyplot as plt\n",
    "\n",
    "def plot_metrics_vs_epoch(train_history, val_history, model_name, metrics=('loss', 'accuracy')):\n",
    "\n",
    "    epochs = range(1, len(train_history[metrics[0]]) + 1)\n",
    "\n",
    "    plt.figure(figsize=(12, 6))\n",
    "\n",
    "    for metric in metrics:\n",
    "        plt.plot(epochs, train_history[metric], 'bo-', label=f'Training {metric}')\n",
    "        plt.plot(epochs, val_history[metric], 'ro-', label=f'Validation {metric}')\n",
    "\n",
    "    plt.title(f'Model Performance Over Epochs - {model_name}')\n",
    "    plt.xlabel('Epochs')\n",
    "    plt.ylabel('Metrics')\n",
    "    plt.legend()\n",
    "    plt.show()\n",
    "\n",
    "plot_metrics_vs_epoch(\n",
    "    {\"accuracy\": history.history[\"accuracy\"], \"loss\": history.history[\"loss\"]},\n",
    "    {\"accuracy\": history.history[\"val_accuracy\"], \"loss\": history.history[\"val_loss\"]},\n",
    "    \"Neural Network\",\n",
    "    metrics=(\"accuracy\", \"loss\")\n",
    ")"
   ]
  },
  {
   "cell_type": "markdown",
   "metadata": {},
   "source": [
    "## Exercise 2\n",
    "\n",
    "Following the original paper (see lab 6), make a comparison of the performance (using ROC curves and AUC) between models trained with raw, features, and raw+features data."
   ]
  },
  {
   "cell_type": "code",
   "execution_count": null,
   "metadata": {},
   "outputs": [],
   "source": [
    "from sklearn.metrics import roc_curve, auc\n",
    "from sklearn.ensemble import RandomForestClassifier\n",
    "#from sklearn.preprocessing import StandardScaler\n",
    "#from sklearn.model_selection import train_test_split\n",
    "#import matplotlib.pyplot as plt\n",
    "\n",
    "X_raw = np.array(df[RawNames])\n",
    "y_raw = np.array(df[\"signal\"])\n",
    "\n",
    "X_features = np.array(df[FeatureNames])\n",
    "y_features = np.array(df[\"signal\"])\n",
    "\n",
    "X_combined = np.array(df[VarNames[1:]])\n",
    "y_combined = np.array(df[\"signal\"])\n",
    "\n",
    "# split\n",
    "X_raw_train, X_raw_test, y_raw_train, y_raw_test = train_test_split(X_raw, y_raw, test_size=0.2, random_state=42)\n",
    "X_features_train, X_features_test, y_features_train, y_features_test = train_test_split(\n",
    "    X_features, y_features, test_size=0.2, random_state=42\n",
    ")\n",
    "X_combined_train, X_combined_test, y_combined_train, y_combined_test = train_test_split(\n",
    "    X_combined, y_combined, test_size=0.2, random_state=42\n",
    ")\n",
    "\n",
    "# build and train\n",
    "def train_model(X_train, y_train):\n",
    "    model = RandomForestClassifier(random_state=42)\n",
    "    model.fit(X_train, y_train)\n",
    "    return model\n",
    "\n",
    "model_raw = train_model(X_raw_train, y_raw_train)\n",
    "model_features = train_model(X_features_train, y_features_train)\n",
    "model_combined = train_model(X_combined_train, y_combined_train)\n",
    "\n",
    "def evaluate_model(model, X_test, y_test):\n",
    "    y_prob = model.predict_proba(X_test)[:, 1]\n",
    "    fpr, tpr, _ = roc_curve(y_test, y_prob)\n",
    "    auc_score = auc(fpr, tpr)\n",
    "    return fpr, tpr, auc_score\n",
    "\n",
    "fpr_raw, tpr_raw, auc_raw = evaluate_model(model_raw, X_raw_test, y_raw_test)\n",
    "fpr_features, tpr_features, auc_features = evaluate_model(model_features, X_features_test, y_features_test)\n",
    "fpr_combined, tpr_combined, auc_combined = evaluate_model(model_combined, X_combined_test, y_combined_test)\n",
    "\n",
    "plt.figure(figsize=(10, 6))\n",
    "plt.plot(fpr_raw, tpr_raw, label=f'Raw Data (AUC = {auc_raw:.2f})')\n",
    "plt.plot(fpr_features, tpr_features, label=f'Features Data (AUC = {auc_features:.2f})')\n",
    "plt.plot(fpr_combined, tpr_combined, label=f'Combined Data (AUC = {auc_combined:.2f})')\n",
    "\n",
    "plt.plot([0, 1], [0, 1], linestyle='--', color='gray', label='Random')\n",
    "\n",
    "plt.title('ROC Curves for Different Models')\n",
    "plt.xlabel('False Positive Rate')\n",
    "plt.ylabel('True Positive Rate')\n",
    "plt.legend()\n",
    "plt.show()"
   ]
  },
  {
   "cell_type": "code",
   "execution_count": null,
   "metadata": {},
   "outputs": [],
   "source": [
    "model = RandomForestClassifier(random_state=42, n_estimators=100, max_depth=10, n_jobs=-1)"
   ]
  },
  {
   "cell_type": "code",
   "execution_count": null,
   "metadata": {},
   "outputs": [],
   "source": [
    "from sklearn.ensemble import RandomForestClassifier\n",
    "from sklearn.metrics import roc_curve, auc\n",
    "from sklearn.model_selection import train_test_split\n",
    "\n",
    "def train_and_evaluate_model(X_train, y_train, X_test, y_test):\n",
    "    model = RandomForestClassifier(random_state=42, n_estimators=100, max_depth=10)  # Adjust hyperparameters as needed\n",
    "    model.fit(X_train, y_train)\n",
    "\n",
    "    y_prob = model.predict_proba(X_test)[:, 1]\n",
    "    fpr, tpr, _ = roc_curve(y_test, y_prob)\n",
    "    auc_score = auc(fpr, tpr)\n",
    "\n",
    "    return fpr, tpr, auc_score\n",
    "\n",
    "# spli\n",
    "X_raw_train, X_raw_test, y_raw_train, y_raw_test = train_test_split(X_raw, y_raw, test_size=0.2, random_state=42)\n",
    "X_features_train, X_features_test, y_features_train, y_features_test = train_test_split(X_features, y_features, test_size=0.2, random_state=42)\n",
    "X_combined_train, X_combined_test, y_combined_train, y_combined_test = train_test_split(X_combined, y_combined, test_size=0.2, random_state=42)\n",
    "\n",
    "# train\n",
    "fpr_raw, tpr_raw, auc_raw = train_and_evaluate_model(X_raw_train, y_raw_train, X_raw_test, y_raw_test)\n",
    "fpr_features, tpr_features, auc_features = train_and_evaluate_model(X_features_train, y_features_train, X_features_test, y_features_test)\n",
    "fpr_combined, tpr_combined, auc_combined = train_and_evaluate_model(X_combined_train, y_combined_train, X_combined_test, y_combined_test)\n",
    "\n",
    "print(\"AUC Raw:\", auc_raw)\n",
    "print(\"AUC Features:\", auc_features)\n",
    "print(\"AUC Combined:\", auc_combined)\n"
   ]
  },
  {
   "cell_type": "code",
   "execution_count": 12,
   "metadata": {},
   "outputs": [
    {
     "ename": "NameError",
     "evalue": "name 'evaluate_model' is not defined",
     "output_type": "error",
     "traceback": [
      "\u001b[1;31m---------------------------------------------------------------------------\u001b[0m",
      "\u001b[1;31mNameError\u001b[0m                                 Traceback (most recent call last)",
      "\u001b[1;32m~\\AppData\\Local\\Temp\\ipykernel_23460\\3235495976.py\u001b[0m in \u001b[0;36m<module>\u001b[1;34m\u001b[0m\n\u001b[0;32m     23\u001b[0m )\n\u001b[0;32m     24\u001b[0m \u001b[1;33m\u001b[0m\u001b[0m\n\u001b[1;32m---> 25\u001b[1;33m \u001b[0mfpr_raw\u001b[0m\u001b[1;33m,\u001b[0m \u001b[0mtpr_raw\u001b[0m\u001b[1;33m,\u001b[0m \u001b[0mauc_raw\u001b[0m \u001b[1;33m=\u001b[0m \u001b[0mevaluate_model\u001b[0m\u001b[1;33m(\u001b[0m\u001b[0mmodel_raw\u001b[0m\u001b[1;33m,\u001b[0m \u001b[0mX_raw_test\u001b[0m\u001b[1;33m,\u001b[0m \u001b[0my_raw_test\u001b[0m\u001b[1;33m)\u001b[0m\u001b[1;33m\u001b[0m\u001b[1;33m\u001b[0m\u001b[0m\n\u001b[0m\u001b[0;32m     26\u001b[0m \u001b[0mfpr_features\u001b[0m\u001b[1;33m,\u001b[0m \u001b[0mtpr_features\u001b[0m\u001b[1;33m,\u001b[0m \u001b[0mauc_features\u001b[0m \u001b[1;33m=\u001b[0m \u001b[0mevaluate_model\u001b[0m\u001b[1;33m(\u001b[0m\u001b[0mmodel_features\u001b[0m\u001b[1;33m,\u001b[0m \u001b[0mX_features_test\u001b[0m\u001b[1;33m,\u001b[0m \u001b[0my_features_test\u001b[0m\u001b[1;33m)\u001b[0m\u001b[1;33m\u001b[0m\u001b[1;33m\u001b[0m\u001b[0m\n\u001b[0;32m     27\u001b[0m \u001b[0mfpr_combined\u001b[0m\u001b[1;33m,\u001b[0m \u001b[0mtpr_combined\u001b[0m\u001b[1;33m,\u001b[0m \u001b[0mauc_combined\u001b[0m \u001b[1;33m=\u001b[0m \u001b[0mevaluate_model\u001b[0m\u001b[1;33m(\u001b[0m\u001b[0mmodel_combined\u001b[0m\u001b[1;33m,\u001b[0m \u001b[0mX_combined_test\u001b[0m\u001b[1;33m,\u001b[0m \u001b[0my_combined_test\u001b[0m\u001b[1;33m)\u001b[0m\u001b[1;33m\u001b[0m\u001b[1;33m\u001b[0m\u001b[0m\n",
      "\u001b[1;31mNameError\u001b[0m: name 'evaluate_model' is not defined"
     ]
    }
   ],
   "source": [
    "from sklearn.metrics import roc_curve, auc\n",
    "from sklearn.ensemble import RandomForestClassifier\n",
    "\n",
    "X_raw = np.array(df[RawNames])\n",
    "y_raw = np.array(df[\"signal\"])\n",
    "\n",
    "X_features = np.array(df[FeatureNames])\n",
    "y_features = np.array(df[\"signal\"])\n",
    "\n",
    "X_combined = np.array(df[VarNames[1:]])\n",
    "y_combined = np.array(df[\"signal\"])\n",
    "\n",
    "# split\n",
    "X_raw_train, X_raw_test, y_raw_train, y_raw_test = train_test_split(X_raw, y_raw, test_size=0.2, random_state=42)\n",
    "X_features_train, X_features_test, y_features_train, y_features_test = train_test_split(\n",
    "    X_features, y_features, test_size=0.2, random_state=42\n",
    ")\n",
    "X_combined_train, X_combined_test, y_combined_train, y_combined_test = train_test_split(\n",
    "    X_combined, y_combined, test_size=0.2, random_state=42\n",
    ")\n",
    "\n",
    "fpr_raw, tpr_raw, auc_raw = evaluate_model(model_raw, X_raw_test, y_raw_test)\n",
    "fpr_features, tpr_features, auc_features = evaluate_model(model_features, X_features_test, y_features_test)\n",
    "fpr_combined, tpr_combined, auc_combined = evaluate_model(model_combined, X_combined_test, y_combined_test)\n",
    "\n",
    "plt.figure(figsize=(10, 6))\n",
    "plt.plot(fpr_raw, tpr_raw, label=f'Raw Data (AUC = {auc_raw:.2f})')\n",
    "plt.plot(fpr_features, tpr_features, label=f'Features Data (AUC = {auc_features:.2f})')\n",
    "plt.plot(fpr_combined, tpr_combined, label=f'Combined Data (AUC = {auc_combined:.2f})')\n",
    "\n",
    "plt.plot([0, 1], [0, 1], linestyle='--', color='gray', label='Random')\n",
    "\n",
    "plt.title('ROC Curves for Different Models')\n",
    "plt.xlabel('False Positive Rate')\n",
    "plt.ylabel('True Positive Rate')\n",
    "plt.legend()\n",
    "plt.show()"
   ]
  },
  {
   "cell_type": "markdown",
   "metadata": {},
   "source": [
    "## Exercise 3\n",
    "\n",
    "Design and implement at least 3 different DNN models. Train them and compare performance. You may try different architectures, loss functions, and optimizers to see if there is an effect."
   ]
  },
  {
   "cell_type": "code",
   "execution_count": 10,
   "metadata": {},
   "outputs": [
    {
     "name": "stdout",
     "output_type": "stream",
     "text": [
      "Model: \"model\"\n",
      "_________________________________________________________________\n",
      " Layer (type)                Output Shape              Param #   \n",
      "=================================================================\n",
      " input_1 (InputLayer)        [(None, 18)]              0         \n",
      "                                                                 \n",
      " dense_8 (Dense)             (None, 12)                228       \n",
      "                                                                 \n",
      " dense_9 (Dense)             (None, 8)                 104       \n",
      "                                                                 \n",
      " dense_10 (Dense)            (None, 8)                 72        \n",
      "                                                                 \n",
      " dense_11 (Dense)            (None, 1)                 9         \n",
      "                                                                 \n",
      "=================================================================\n",
      "Total params: 413 (1.61 KB)\n",
      "Trainable params: 413 (1.61 KB)\n",
      "Non-trainable params: 0 (0.00 Byte)\n",
      "_________________________________________________________________\n"
     ]
    }
   ],
   "source": [
    "from keras.models import Model\n",
    "from keras.layers import Dense, Input\n",
    "\n",
    "in_x = Input(shape = X_Train.shape[1:])\n",
    "x = Dense(12, input_dim=X_Train.shape[1], activation='relu')(in_x)\n",
    "x = Dense(8, activation='relu')(x)\n",
    "x = Dense(8, activation='relu')(x)\n",
    "out_x = Dense(1, activation='sigmoid')(x)\n",
    "\n",
    "model = Model(in_x,out_x)\n",
    "\n",
    "model.summary()"
   ]
  },
  {
   "cell_type": "code",
   "execution_count": 11,
   "metadata": {},
   "outputs": [
    {
     "name": "stdout",
     "output_type": "stream",
     "text": [
      "Model: \"model_1\"\n",
      "_________________________________________________________________\n",
      " Layer (type)                Output Shape              Param #   \n",
      "=================================================================\n",
      " input_2 (InputLayer)        [(None, 18)]              0         \n",
      "                                                                 \n",
      " dense_12 (Dense)            (None, 12)                228       \n",
      "                                                                 \n",
      " dense_13 (Dense)            (None, 8)                 104       \n",
      "                                                                 \n",
      " tf.nn.relu (TFOpLambda)     (None, 8)                 0         \n",
      "                                                                 \n",
      " dense_14 (Dense)            (None, 1)                 9         \n",
      "                                                                 \n",
      "=================================================================\n",
      "Total params: 341 (1.33 KB)\n",
      "Trainable params: 341 (1.33 KB)\n",
      "Non-trainable params: 0 (0.00 Byte)\n",
      "_________________________________________________________________\n"
     ]
    }
   ],
   "source": [
    "from keras.activations import relu\n",
    "\n",
    "in_x = Input(shape = X_Train.shape[1:])\n",
    "x = Dense(12, input_dim=X_Train.shape[1], activation='relu')(in_x)\n",
    "x = Dense(8)(x)\n",
    "x = relu(x)\n",
    "out_x = Dense(1, activation='sigmoid')(x)\n",
    "\n",
    "model = Model(in_x,out_x)\n",
    "\n",
    "model.summary()"
   ]
  },
  {
   "cell_type": "markdown",
   "metadata": {},
   "source": [
    "## Exercise 4\n",
    "\n",
    "Repeat exercise 4 from Lab 7, adding your best performing DNN as one of the models.  \n"
   ]
  },
  {
   "cell_type": "code",
   "execution_count": null,
   "metadata": {},
   "outputs": [],
   "source": [
    "from sklearn.metrics import roc_curve, auc\n",
    "\n",
    "def compare_classifiers(classifier, X_train, y_train, X_test, y_test, label):\n",
    "    classifier.fit(X_train, y_train)\n",
    "    \n",
    "    train_scores = classifier.decision_function(X_train)\n",
    "    test_scores = classifier.decision_function(X_test)\n",
    "    \n",
    "    fpr_train, tpr_train, _ = roc_curve(y_train, train_scores)\n",
    "    fpr_test, tpr_test, _ = roc_curve(y_test, test_scores)\n",
    "    \n",
    "    roc_auc_train = auc(fpr_train, tpr_train)\n",
    "    roc_auc_test = auc(fpr_test, tpr_test)\n",
    "    \n",
    "    plt.figure()\n",
    "    plt.plot(fpr_train, tpr_train, color='blue', label=f'ROC curve (Train), AUC = {roc_auc_train:.2f}')\n",
    "    plt.plot(fpr_test, tpr_test, color='red', label=f'ROC curve (Test), AUC = {roc_auc_test:.2f}')\n",
    "    plt.plot([0, 1], [0, 1], color='gray', linestyle='--')  # Random classifier line\n",
    "    plt.xlabel('False Positive Rate')\n",
    "    plt.ylabel('True Positive Rate')\n",
    "    plt.title(f'Receiver Operating Characteristic (ROC) Curve - {label}')\n",
    "    plt.legend(loc='lower right')\n",
    "    plt.show()\n",
    "    \n",
    "    return roc_auc_test"
   ]
  },
  {
   "cell_type": "code",
   "execution_count": null,
   "metadata": {},
   "outputs": [],
   "source": []
  }
 ],
 "metadata": {
  "kernelspec": {
   "display_name": "Python 3 (ipykernel)",
   "language": "python",
   "name": "python3"
  },
  "language_info": {
   "codemirror_mode": {
    "name": "ipython",
    "version": 3
   },
   "file_extension": ".py",
   "mimetype": "text/x-python",
   "name": "python",
   "nbconvert_exporter": "python",
   "pygments_lexer": "ipython3",
   "version": "3.9.13"
  }
 },
 "nbformat": 4,
 "nbformat_minor": 2
}
