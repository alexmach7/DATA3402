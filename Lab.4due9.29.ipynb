{
 "cells": [
  {
   "cell_type": "markdown",
   "metadata": {},
   "source": [
    "# Lab 4- Object Oriented Programming\n",
    "\n",
    "For all of the exercises below, make sure you provide tests of your solutions.\n"
   ]
  },
  {
   "cell_type": "markdown",
   "metadata": {},
   "source": [
    "1. Write a \"counter\" class that can be incremented up to a specified maximum value, will print an error if an attempt is made to increment beyond that value, and allows reseting the counter. "
   ]
  },
  {
   "cell_type": "code",
   "execution_count": 1,
   "metadata": {},
   "outputs": [],
   "source": [
    "class Counter:\n",
    "    def __init__(self, max_value):\n",
    "        self.value = 0\n",
    "        self.max_value = max_value\n",
    "\n",
    "    def increment(self):\n",
    "        if self.value < self.max_value:\n",
    "            self.value += 1\n",
    "        else:\n",
    "            print(\"Error: Counter reached the maximum value\")\n",
    "\n",
    "    def reset(self):\n",
    "        self.value = 0"
   ]
  },
  {
   "cell_type": "code",
   "execution_count": 2,
   "metadata": {},
   "outputs": [
    {
     "name": "stdout",
     "output_type": "stream",
     "text": [
      "Error: Counter reached the maximum value\n",
      "Error: Counter reached the maximum value\n",
      "Current value: 5\n",
      "After reset, current value: 0\n"
     ]
    }
   ],
   "source": [
    "counter = Counter(5)  #nitialize with max of 5\n",
    "\n",
    "#incrementing\n",
    "for _ in range(7):  #try to increment beyond the max\n",
    "    counter.increment()\n",
    "\n",
    "#check and reset\n",
    "print(\"Current value:\", counter.value)  #should be 5\n",
    "counter.reset()\n",
    "print(\"After reset, current value:\", counter.value)  #should be 0\n"
   ]
  },
  {
   "cell_type": "markdown",
   "metadata": {},
   "source": [
    "2. Copy and paste your solution to question 1 and modify it so that all the data held by the counter is private. Implement functions to check the value of the counter, check the maximum value, and check if the counter is at the maximum."
   ]
  },
  {
   "cell_type": "code",
   "execution_count": 3,
   "metadata": {},
   "outputs": [],
   "source": [
    "class Counter:\n",
    "    def __init__(self, max_value):\n",
    "        self.__value = 0\n",
    "        self.__max_value = max_value\n",
    "\n",
    "    def increment(self):\n",
    "        if self.__value < self.__max_value:\n",
    "            self.__value += 1\n",
    "        else:\n",
    "            print(\"Error: Counter reached the maximum value\")\n",
    "\n",
    "    def reset(self):\n",
    "        self.__value = 0\n",
    "\n",
    "    def get_value(self):\n",
    "        return self.__value\n",
    "\n",
    "    def get_max_value(self):\n",
    "        return self.__max_value\n",
    "\n",
    "    def is_at_max(self):\n",
    "        return self.__value == self.__max_value\n"
   ]
  },
  {
   "cell_type": "code",
   "execution_count": 4,
   "metadata": {},
   "outputs": [
    {
     "name": "stdout",
     "output_type": "stream",
     "text": [
      "Error: Counter reached the maximum value\n",
      "Error: Counter reached the maximum value\n",
      "Current value: 5\n",
      "Maximum value: 5\n",
      "Is at maximum: True\n",
      "After reset, current value: 0\n"
     ]
    }
   ],
   "source": [
    "counter = Counter(5)  #max 5\n",
    "\n",
    "# Test incrementing\n",
    "for _ in range(7):  #try to increment beyond the max\n",
    "    counter.increment()\n",
    "\n",
    "print(\"Current value:\", counter.get_value())  #5\n",
    "print(\"Maximum value:\", counter.get_max_value())  #5\n",
    "print(\"Is at maximum:\", counter.is_at_max())  #True\n",
    "counter.reset()\n",
    "print(\"After reset, current value:\", counter.get_value())  #0\n"
   ]
  },
  {
   "cell_type": "markdown",
   "metadata": {},
   "source": [
    "3. Implement a class to represent a rectangle, holding the length, width, and $x$ and $y$ coordinates of a corner of the object. Implement functions that compute the area and perimeter of the rectangle. Make all data members private and privide accessors to retrieve values of data members. "
   ]
  },
  {
   "cell_type": "code",
   "execution_count": 5,
   "metadata": {},
   "outputs": [],
   "source": [
    "class Rectangle:\n",
    "    def __init__(self, length, width, x, y):\n",
    "        self.__length = length\n",
    "        self.__width = width\n",
    "        self.__x = x\n",
    "        self.__y = y\n",
    "\n",
    "    def get_length(self):\n",
    "        return self.__length\n",
    "\n",
    "    def get_width(self):\n",
    "        return self.__width\n",
    "\n",
    "    def get_x(self):\n",
    "        return self.__x\n",
    "\n",
    "    def get_y(self):\n",
    "        return self.__y\n",
    "\n",
    "    def area(self):\n",
    "        return self.__length * self.__width\n",
    "\n",
    "    def perimeter(self):\n",
    "        return 2 * (self.__length + self.__width)\n"
   ]
  },
  {
   "cell_type": "code",
   "execution_count": 6,
   "metadata": {},
   "outputs": [
    {
     "name": "stdout",
     "output_type": "stream",
     "text": [
      "Length: 5\n",
      "Width: 4\n",
      "X Coordinate: 2\n",
      "Y Coordinate: 3\n",
      "Area: 20\n",
      "Perimeter: 18\n"
     ]
    }
   ],
   "source": [
    "rectangle = Rectangle(5, 4, 2, 3)\n",
    "\n",
    "print(\"Length:\", rectangle.get_length())\n",
    "print(\"Width:\", rectangle.get_width())\n",
    "print(\"X Coordinate:\", rectangle.get_x())\n",
    "print(\"Y Coordinate:\", rectangle.get_y())\n",
    "\n",
    "print(\"Area:\", rectangle.area())\n",
    "print(\"Perimeter:\", rectangle.perimeter())\n"
   ]
  },
  {
   "cell_type": "markdown",
   "metadata": {},
   "source": [
    "4. Implement a class to represent a circle, holding the radius and $x$ and $y$ coordinates of center of the object. Implement functions that compute the area and perimeter of the rectangle. Make all data members private and privide accessors to retrieve values of data members. "
   ]
  },
  {
   "cell_type": "code",
   "execution_count": 7,
   "metadata": {},
   "outputs": [],
   "source": [
    "import math\n",
    "\n",
    "class Circle:\n",
    "    def __init__(self, radius, x, y):\n",
    "        self.__radius = radius\n",
    "        self.__x = x\n",
    "        self.__y = y\n",
    "\n",
    "    def get_radius(self):\n",
    "        return self.__radius\n",
    "\n",
    "    def get_x(self):\n",
    "        return self.__x\n",
    "\n",
    "    def get_y(self):\n",
    "        return self.__y\n",
    "\n",
    "    def area(self):\n",
    "        return math.pi * self.__radius**2\n",
    "\n",
    "    def circumference(self):\n",
    "        return 2 * math.pi * self.__radius"
   ]
  },
  {
   "cell_type": "code",
   "execution_count": 8,
   "metadata": {},
   "outputs": [
    {
     "name": "stdout",
     "output_type": "stream",
     "text": [
      "Radius: 5\n",
      "X Coordinate: 2\n",
      "Y Coordinate: 3\n",
      "Area: 78.53981633974483\n",
      "Circumference: 31.41592653589793\n"
     ]
    }
   ],
   "source": [
    "circle = Circle(5, 2, 3)\n",
    "\n",
    "print(\"Radius:\", circle.get_radius())\n",
    "print(\"X Coordinate:\", circle.get_x())\n",
    "print(\"Y Coordinate:\", circle.get_y())\n",
    "\n",
    "print(\"Area:\", circle.area())\n",
    "print(\"Circumference:\", circle.circumference())"
   ]
  },
  {
   "cell_type": "markdown",
   "metadata": {},
   "source": [
    "5. Implement a common base class for the classes implemented in 3 and 4 above which implements all common methods as not implemented functions (virtual). Re-implement those classes to inherit from the base class and overload the functions accordingly. "
   ]
  },
  {
   "cell_type": "code",
   "execution_count": 5,
   "metadata": {},
   "outputs": [],
   "source": [
    "from abc import ABC, abstractmethod\n",
    "import math\n",
    "\n",
    "class Shape(ABC):\n",
    "    def __init__(self, x, y):\n",
    "        self.__x = x\n",
    "        self.__y = y\n",
    "\n",
    "    def get_x(self):\n",
    "        return self.__x\n",
    "\n",
    "    def get_y(self):\n",
    "        return self.__y\n",
    "\n",
    "    @abstractmethod\n",
    "    def area(self):\n",
    "        pass\n",
    "\n",
    "    @abstractmethod\n",
    "    def perimeter(self):\n",
    "        pass\n",
    "\n",
    "class Rectangle(Shape):\n",
    "    def __init__(self, length, width, x, y):\n",
    "        super().__init__(x, y)\n",
    "        self.__length = length\n",
    "        self.__width = width\n",
    "\n",
    "    def area(self):\n",
    "        return self.__length * self.__width\n",
    "\n",
    "    def perimeter(self):\n",
    "        return 2 * (self.__length + self.__width)\n",
    "\n",
    "    def __str__(self):\n",
    "        return f\"Rectangle: Length={self.__length}, Width={self.__width}, X={self.get_x()}, Y={self.get_y()}\"\n",
    "\n",
    "class Circle(Shape):\n",
    "    def __init__(self, radius, x, y):\n",
    "        super().__init__(x, y)\n",
    "        self.__radius = radius\n",
    "\n",
    "    def area(self):\n",
    "        return math.pi * self.__radius**2\n",
    "\n",
    "    def perimeter(self):\n",
    "        return 2 * math.pi * self.__radius\n",
    "\n",
    "    def __str__(self):\n",
    "        return f\"Circle: Radius={self.__radius}, X={self.get_x()}, Y={self.get_y()}\""
   ]
  },
  {
   "cell_type": "code",
   "execution_count": 6,
   "metadata": {},
   "outputs": [
    {
     "name": "stdout",
     "output_type": "stream",
     "text": [
      "Rectangle: Length=5, Width=4, X=1, Y=2\n",
      "Area: 20\n",
      "Perimeter: 18\n",
      "Circle: Radius=5, X=2, Y=3\n",
      "Area: 78.53981633974483\n",
      "Circumference: 31.41592653589793\n"
     ]
    }
   ],
   "source": [
    "rect = Rectangle(5, 4, 1, 2)\n",
    "circle = Circle(5, 2, 3)\n",
    "\n",
    "print(rect)\n",
    "print(f\"Area: {rect.area()}\")\n",
    "print(f\"Perimeter: {rect.perimeter()}\")\n",
    "\n",
    "print(circle)\n",
    "print(f\"Area: {circle.area()}\")\n",
    "print(f\"Circumference: {circle.perimeter()}\")\n"
   ]
  },
  {
   "cell_type": "markdown",
   "metadata": {},
   "source": [
    "6. Implement an analogous triangle class."
   ]
  },
  {
   "cell_type": "code",
   "execution_count": 9,
   "metadata": {},
   "outputs": [],
   "source": [
    "from abc import ABC, abstractmethod\n",
    "import math\n",
    "\n",
    "class Triangle(Shape):\n",
    "    def __init__(self, side1, side2, side3):\n",
    "        self.side1 = side1\n",
    "        self.side2 = side2\n",
    "        self.side3 = side3\n",
    "\n",
    "    def area(self):\n",
    "        s = (self.side1 + self.side2 + self.side3) / 2\n",
    "        return math.sqrt(s * (s - self.side1) * (s - self.side2) * (s - self.side3))\n",
    "\n",
    "    def perimeter(self):\n",
    "        return self.side1 + self.side2 + self.side3"
   ]
  },
  {
   "cell_type": "code",
   "execution_count": 11,
   "metadata": {},
   "outputs": [
    {
     "name": "stdout",
     "output_type": "stream",
     "text": [
      "Triangle - Area: 6.0, Perimeter: 12\n"
     ]
    }
   ],
   "source": [
    "triangle = Triangle(3, 4, 5)\n",
    "\n",
    "print(f\"Triangle - Area: {triangle.area()}, Perimeter: {triangle.perimeter()}\")"
   ]
  },
  {
   "cell_type": "markdown",
   "metadata": {},
   "source": [
    "7. Add a function to the object classes that tests if a given set of $x$ and $y$ coordinates are inside of the object."
   ]
  },
  {
   "cell_type": "code",
   "execution_count": 12,
   "metadata": {},
   "outputs": [],
   "source": [
    "class Rectangle(Shape):\n",
    "    def is_inside(self, x, y):\n",
    "        return (0 <= x - self.get_x() < self.length) and (0 <= y - self.get_y() < self.width)\n",
    "\n",
    "class Circle(Shape):\n",
    "    def is_inside(self, x, y):\n",
    "        distance = math.sqrt((x - self.get_x())**2 + (y - self.get_y())**2)\n",
    "        return distance <= self.radius\n",
    "\n",
    "class Triangle(Shape):\n",
    "    def is_inside(self, x, y):\n",
    "        area1 = abs(0.5 * (self.side1 * (self.side2 * (x - self.get_x()) - (y - self.get_y()) * self.side3)))\n",
    "        area2 = abs(0.5 * (self.side2 * (self.side3 * (x - self.get_x()) - (y - self.get_y()) * self.side1)))\n",
    "        area3 = abs(0.5 * (self.side3 * (self.side1 * (x - self.get_x()) - (y - self.get_y()) * self.side2)))\n",
    "        total_area = self.area()\n",
    "\n",
    "        #if sum of areas of the smaller triangles = area of whole triangle, point is inside\n",
    "        return area1 + area2 + area3 == total_area\n"
   ]
  },
  {
   "cell_type": "markdown",
   "metadata": {},
   "source": [
    "8. Add a function to the object classes that return a list of up to 16 pairs of  $x$ and $y$ points on the parameter of the object.\n",
    "\n"
   ]
  },
  {
   "cell_type": "code",
   "execution_count": 14,
   "metadata": {},
   "outputs": [],
   "source": [
    "def get_perimeter_points(self, num_points=16):\n",
    "    if num_points <= 0:\n",
    "        return []"
   ]
  },
  {
   "cell_type": "markdown",
   "metadata": {},
   "source": [
    "9. Add a function in the base class of the object classes that returns true/false testing that the object overlaps with another object."
   ]
  },
  {
   "cell_type": "code",
   "execution_count": 16,
   "metadata": {},
   "outputs": [],
   "source": [
    "def overlaps(self, other):\n",
    "    if not isinstance(other, Rectangle):\n",
    "        return False\n",
    "    \n",
    "        x1, y1 = self.get_x(), self.get_y()\n",
    "        x2, y2 = other.get_x(), other.get_y()\n",
    "        width1, height1 = self.length, self.width\n",
    "        width2, height2 = other.length, other.width\n",
    "\n",
    "        if (\n",
    "            x1 < x2 + width2 and\n",
    "            x1 + width1 > x2 and\n",
    "            y1 < y2 + height2 and\n",
    "            y1 + height1 > y2\n",
    "        ):\n",
    "            return True\n",
    "        else:\n",
    "            return False"
   ]
  },
  {
   "cell_type": "markdown",
   "metadata": {},
   "source": [
    "10. Copy the `Canvas` class from lecture to in a python file creating a `paint` module. Copy your classes from above into the module and implement paint functions. Implement a `CompoundShape` class. Create a simple drawing demonstrating that all of your classes are working."
   ]
  },
  {
   "cell_type": "code",
   "execution_count": 22,
   "metadata": {},
   "outputs": [
    {
     "ename": "NameError",
     "evalue": "name 'null' is not defined",
     "output_type": "error",
     "traceback": [
      "\u001b[1;31m---------------------------------------------------------------------------\u001b[0m",
      "\u001b[1;31mNameError\u001b[0m                                 Traceback (most recent call last)",
      "\u001b[1;32m~\\AppData\\Local\\Temp\\ipykernel_22048\\3226638676.py\u001b[0m in \u001b[0;36m<module>\u001b[1;34m\u001b[0m\n\u001b[1;32m----> 1\u001b[1;33m \u001b[1;32mimport\u001b[0m \u001b[0mpaint\u001b[0m\u001b[1;33m\u001b[0m\u001b[1;33m\u001b[0m\u001b[0m\n\u001b[0m\u001b[0;32m      2\u001b[0m \u001b[1;33m\u001b[0m\u001b[0m\n\u001b[0;32m      3\u001b[0m \u001b[1;32mclass\u001b[0m \u001b[0mCanvas\u001b[0m\u001b[1;33m:\u001b[0m\u001b[1;33m\u001b[0m\u001b[1;33m\u001b[0m\u001b[0m\n\u001b[0;32m      4\u001b[0m     \u001b[1;32mdef\u001b[0m \u001b[0m__init__\u001b[0m\u001b[1;33m(\u001b[0m\u001b[0mself\u001b[0m\u001b[1;33m,\u001b[0m \u001b[0mwidth\u001b[0m\u001b[1;33m,\u001b[0m \u001b[0mheight\u001b[0m\u001b[1;33m)\u001b[0m\u001b[1;33m:\u001b[0m\u001b[1;33m\u001b[0m\u001b[1;33m\u001b[0m\u001b[0m\n\u001b[0;32m      5\u001b[0m         \u001b[0mself\u001b[0m\u001b[1;33m.\u001b[0m\u001b[0mwidth\u001b[0m \u001b[1;33m=\u001b[0m \u001b[0mwidth\u001b[0m\u001b[1;33m\u001b[0m\u001b[1;33m\u001b[0m\u001b[0m\n",
      "\u001b[1;32m~\\Documents\\paint.py\u001b[0m in \u001b[0;36m<module>\u001b[1;34m\u001b[0m\n\u001b[0;32m      3\u001b[0m   {\n\u001b[0;32m      4\u001b[0m    \u001b[1;34m\"cell_type\"\u001b[0m\u001b[1;33m:\u001b[0m \u001b[1;34m\"code\"\u001b[0m\u001b[1;33m,\u001b[0m\u001b[1;33m\u001b[0m\u001b[1;33m\u001b[0m\u001b[0m\n\u001b[1;32m----> 5\u001b[1;33m    \u001b[1;34m\"execution_count\"\u001b[0m\u001b[1;33m:\u001b[0m \u001b[0mnull\u001b[0m\u001b[1;33m,\u001b[0m\u001b[1;33m\u001b[0m\u001b[1;33m\u001b[0m\u001b[0m\n\u001b[0m\u001b[0;32m      6\u001b[0m    \u001b[1;34m\"id\"\u001b[0m\u001b[1;33m:\u001b[0m \u001b[1;34m\"ac066feb\"\u001b[0m\u001b[1;33m,\u001b[0m\u001b[1;33m\u001b[0m\u001b[1;33m\u001b[0m\u001b[0m\n\u001b[0;32m      7\u001b[0m    \u001b[1;34m\"metadata\"\u001b[0m\u001b[1;33m:\u001b[0m \u001b[1;33m{\u001b[0m\u001b[1;33m}\u001b[0m\u001b[1;33m,\u001b[0m\u001b[1;33m\u001b[0m\u001b[1;33m\u001b[0m\u001b[0m\n",
      "\u001b[1;31mNameError\u001b[0m: name 'null' is not defined"
     ]
    }
   ],
   "source": [
    "import paint\n",
    "\n",
    "class Canvas:\n",
    "    def __init__(self, width, height):\n",
    "        self.width = width\n",
    "        self.height = height\n",
    "        self.data = [[' '] * width for i in range(height)]\n",
    "\n",
    "    def set_pixel(self, row, col, char='*'):\n",
    "        self.data[row][col] = char\n",
    "\n",
    "    def get_pixel(self, row, col):\n",
    "        return self.data[row][col]\n",
    "    \n",
    "    def clear_canvas(self):\n",
    "        self.data = [[' '] * self.width for i in range(self.height)]\n",
    "    \n",
    "    def v_line(self, x, y, w, **kargs):\n",
    "        for i in range(x,x+w):\n",
    "            self.set_pixel(i,y, **kargs)\n",
    "\n",
    "    def h_line(self, x, y, h, **kargs):\n",
    "        for i in range(y,y+h):\n",
    "            self.set_pixel(x,i, **kargs)\n",
    "            \n",
    "    def line(self, x1, y1, x2, y2, **kargs):\n",
    "        slope = (y2-y1) / (x2-x1)\n",
    "        for y in range(y1,y2):\n",
    "            x= int(slope * y)\n",
    "            self.set_pixel(x,y, **kargs)\n",
    "            \n",
    "    def display(self):\n",
    "        print(\"\\n\".join([\"\".join(row) for row in self.data]))"
   ]
  },
  {
   "cell_type": "code",
   "execution_count": 26,
   "metadata": {},
   "outputs": [],
   "source": [
    "import matplotlib.pyplot as plt\n",
    "from matplotlib.patches import Rectangle as MatplotlibRectangle, Circle as MatplotlibCircle, Polygon\n",
    "\n",
    "class Canvas:\n",
    "    def __init__(self, width, height):\n",
    "        self.width = width\n",
    "        self.height = height\n",
    "        self.shapes = []\n",
    "\n",
    "    def add_shape(self, shape):\n",
    "        self.shapes.append(shape)\n",
    "\n",
    "    def clear(self):\n",
    "        self.shapes = []\n",
    "\n",
    "    def draw(self):\n",
    "        fig, ax = plt.subplots(figsize=(self.width / 80, self.height / 80))\n",
    "        \n",
    "        for shape in self.shapes:\n",
    "            if isinstance(shape, Rectangle):\n",
    "                rect = MatplotlibRectangle(\n",
    "                    (shape.get_x(), shape.get_y()), shape.length, shape.width,\n",
    "                    edgecolor='black', facecolor='none'\n",
    "                )\n",
    "                ax.add_patch(rect)\n",
    "            elif isinstance(shape, Circle):\n",
    "                circle = MatplotlibCircle(\n",
    "                    (shape.get_x(), shape.get_y()), shape.radius,\n",
    "                    edgecolor='black', facecolor='none'\n",
    "                )\n",
    "                ax.add_patch(circle)\n",
    "            elif isinstance(shape, Triangle):\n",
    "                pass\n",
    "            elif isinstance(shape, CompoundShape):\n",
    "                pass\n",
    "\n",
    "        ax.set_xlim(0, self.width)\n",
    "        ax.set_ylim(0, self.height)\n",
    "        ax.set_aspect('equal', 'box')\n",
    "        plt.gca().invert_yaxis()\n",
    "        plt.gca().set_aspect('equal', adjustable='box')\n",
    "        plt.grid(True)\n",
    "        plt.show()"
   ]
  },
  {
   "cell_type": "code",
   "execution_count": 25,
   "metadata": {},
   "outputs": [
    {
     "ename": "NameError",
     "evalue": "name 'paint' is not defined",
     "output_type": "error",
     "traceback": [
      "\u001b[1;31m---------------------------------------------------------------------------\u001b[0m",
      "\u001b[1;31mNameError\u001b[0m                                 Traceback (most recent call last)",
      "\u001b[1;32m~\\AppData\\Local\\Temp\\ipykernel_22048\\735968052.py\u001b[0m in \u001b[0;36m<module>\u001b[1;34m\u001b[0m\n\u001b[1;32m----> 1\u001b[1;33m \u001b[0mcanvas\u001b[0m \u001b[1;33m=\u001b[0m \u001b[0mpaint\u001b[0m\u001b[1;33m.\u001b[0m\u001b[0mCanvas\u001b[0m\u001b[1;33m(\u001b[0m\u001b[1;36m800\u001b[0m\u001b[1;33m,\u001b[0m \u001b[1;36m600\u001b[0m\u001b[1;33m)\u001b[0m\u001b[1;33m\u001b[0m\u001b[1;33m\u001b[0m\u001b[0m\n\u001b[0m\u001b[0;32m      2\u001b[0m \u001b[0mrect\u001b[0m \u001b[1;33m=\u001b[0m \u001b[0mpaint\u001b[0m\u001b[1;33m.\u001b[0m\u001b[0mRectangle\u001b[0m\u001b[1;33m(\u001b[0m\u001b[1;36m100\u001b[0m\u001b[1;33m,\u001b[0m \u001b[1;36m50\u001b[0m\u001b[1;33m,\u001b[0m \u001b[1;36m200\u001b[0m\u001b[1;33m,\u001b[0m \u001b[1;36m200\u001b[0m\u001b[1;33m)\u001b[0m\u001b[1;33m\u001b[0m\u001b[1;33m\u001b[0m\u001b[0m\n\u001b[0;32m      3\u001b[0m \u001b[0mcircle\u001b[0m \u001b[1;33m=\u001b[0m \u001b[0mpaint\u001b[0m\u001b[1;33m.\u001b[0m\u001b[0mCircle\u001b[0m\u001b[1;33m(\u001b[0m\u001b[1;36m30\u001b[0m\u001b[1;33m,\u001b[0m \u001b[1;36m400\u001b[0m\u001b[1;33m,\u001b[0m \u001b[1;36m300\u001b[0m\u001b[1;33m)\u001b[0m\u001b[1;33m\u001b[0m\u001b[1;33m\u001b[0m\u001b[0m\n\u001b[0;32m      4\u001b[0m \u001b[1;33m\u001b[0m\u001b[0m\n\u001b[0;32m      5\u001b[0m \u001b[0mcanvas\u001b[0m\u001b[1;33m.\u001b[0m\u001b[0madd_shape\u001b[0m\u001b[1;33m(\u001b[0m\u001b[0mrect\u001b[0m\u001b[1;33m)\u001b[0m\u001b[1;33m\u001b[0m\u001b[1;33m\u001b[0m\u001b[0m\n",
      "\u001b[1;31mNameError\u001b[0m: name 'paint' is not defined"
     ]
    }
   ],
   "source": [
    "canvas = paint.Canvas(800, 600)\n",
    "rect = paint.Rectangle(100, 50, 200, 200)\n",
    "circle = paint.Circle(30, 400, 300)\n",
    "\n",
    "canvas.add_shape(rect)\n",
    "canvas.add_shape(circle)\n",
    "\n",
    "canvas.draw()"
   ]
  },
  {
   "cell_type": "markdown",
   "metadata": {},
   "source": [
    "11. Create a `RasterDrawing` class. Demonstrate that you can create a drawing made of several shapes, paint the drawing, modify the drawing, and paint it again. "
   ]
  },
  {
   "cell_type": "code",
   "execution_count": 27,
   "metadata": {},
   "outputs": [],
   "source": [
    "from PIL import Image, ImageDraw\n",
    "\n",
    "class RasterDrawing:\n",
    "    def __init__(self, width, height):\n",
    "        self.width = width\n",
    "        self.height = height\n",
    "        self.image = Image.new('RGB', (width, height), color='white')\n",
    "        self.draw = ImageDraw.Draw(self.image)\n",
    "        self.shapes = []\n",
    "\n",
    "    def add_shape(self, shape):\n",
    "        self.shapes.append(shape)\n",
    "\n",
    "    def clear(self):\n",
    "        self.shapes = []\n",
    "\n",
    "    def paint(self):\n",
    "        for shape in self.shapes:\n",
    "            shape.paint(self.draw)\n",
    "\n",
    "    def save(self, filename):\n",
    "        self.image.save(filename)\n",
    "\n",
    "class Shape:\n",
    "    def paint(self, draw):\n",
    "        pass\n",
    "\n",
    "class Rectangle(Shape):\n",
    "    def __init__(self, x, y, width, height, color='black'):\n",
    "        self.x = x\n",
    "        self.y = y\n",
    "        self.width = width\n",
    "        self.height = height\n",
    "        self.color = color\n",
    "\n",
    "    def paint(self, draw):\n",
    "        draw.rectangle([(self.x, self.y), (self.x + self.width, self.y + self.height)], outline=self.color)\n",
    "\n",
    "class Circle(Shape):\n",
    "    def __init__(self, x, y, radius, color='black'):\n",
    "        self.x = x\n",
    "        self.y = y\n",
    "        self.radius = radius\n",
    "        self.color = color\n",
    "\n",
    "    def paint(self, draw):\n",
    "        draw.ellipse([(self.x - self.radius, self.y - self.radius), (self.x + self.radius, self.y + self.radius)], outline=self.color)"
   ]
  },
  {
   "cell_type": "code",
   "execution_count": 28,
   "metadata": {},
   "outputs": [],
   "source": [
    "if __name__ == \"__main__\":\n",
    "    drawing = RasterDrawing(800, 600)\n",
    "    \n",
    "    rect = Rectangle(100, 100, 200, 150)\n",
    "    circle = Circle(400, 300, 50)\n",
    "\n",
    "    drawing.add_shape(rect)\n",
    "    drawing.add_shape(circle)\n",
    "\n",
    "    drawing.paint()\n",
    "    drawing.save('my_drawing.png')\n",
    "\n",
    "    rect2 = Rectangle(500, 100, 100, 200, color='red')\n",
    "    circle2 = Circle(700, 200, 80, color='blue')\n",
    "\n",
    "    drawing.add_shape(rect2)\n",
    "    drawing.add_shape(circle2)\n",
    "\n",
    "    drawing.paint()\n",
    "    drawing.save('modified_drawing.png')"
   ]
  },
  {
   "cell_type": "markdown",
   "metadata": {},
   "source": [
    "12. Implement the ability to load/save raster drawings and demonstate that your method works. One way to implement this ability:\n",
    "\n",
    "   * Overload `__repr__` functions of all objects to return strings of the python code that would construct the object.\n",
    "   \n",
    "   * In the save method of raster drawing class, store the representations into the file.\n",
    "   * Write a loader function that reads the file and uses `eval` to instantiate the object.\n",
    "\n",
    "For example:"
   ]
  },
  {
   "cell_type": "code",
   "execution_count": 29,
   "metadata": {},
   "outputs": [],
   "source": [
    "class foo:\n",
    "    def __init__(self,a,b=None):\n",
    "        self.a=a\n",
    "        self.b=b\n",
    "        \n",
    "    def __repr__(self):\n",
    "        return \"foo(\"+repr(self.a)+\",\"+repr(self.b)+\")\"\n",
    "    \n",
    "    def save(self,filename):\n",
    "        f=open(filename,\"w\")\n",
    "        f.write(self.__repr__())\n",
    "        f.close()\n",
    "        \n",
    "   \n",
    "def foo_loader(filename):\n",
    "    f=open(filename,\"r\")\n",
    "    tmp=eval(f.read())\n",
    "    f.close()\n",
    "    return tmp\n"
   ]
  },
  {
   "cell_type": "code",
   "execution_count": 30,
   "metadata": {},
   "outputs": [
    {
     "name": "stdout",
     "output_type": "stream",
     "text": [
      "foo(1,'hello')\n"
     ]
    }
   ],
   "source": [
    "# Test\n",
    "print(repr(foo(1,\"hello\")))"
   ]
  },
  {
   "cell_type": "code",
   "execution_count": 31,
   "metadata": {},
   "outputs": [],
   "source": [
    "# Create an object and save it\n",
    "ff=foo(1,\"hello\")\n",
    "ff.save(\"Test.foo\")"
   ]
  },
  {
   "cell_type": "code",
   "execution_count": 32,
   "metadata": {},
   "outputs": [
    {
     "name": "stderr",
     "output_type": "stream",
     "text": [
      "'cat' is not recognized as an internal or external command,\n",
      "operable program or batch file.\n"
     ]
    }
   ],
   "source": [
    "# Check contents of the saved file\n",
    "!cat Test.foo"
   ]
  },
  {
   "cell_type": "code",
   "execution_count": 33,
   "metadata": {},
   "outputs": [
    {
     "data": {
      "text/plain": [
       "foo(1,'hello')"
      ]
     },
     "execution_count": 33,
     "metadata": {},
     "output_type": "execute_result"
    }
   ],
   "source": [
    "# Load the object\n",
    "ff_reloaded=foo_loader(\"Test.foo\")\n",
    "ff_reloaded"
   ]
  },
  {
   "cell_type": "code",
   "execution_count": 37,
   "metadata": {},
   "outputs": [],
   "source": [
    "class RasterDrawing:\n",
    "    def __init__(self, width, height):\n",
    "        self.width = width\n",
    "        self.height = height\n",
    "        self.image = Image.new('RGB', (width, height), color='white')\n",
    "        self.draw = ImageDraw.Draw(self.image)\n",
    "        self.shapes = []\n",
    "\n",
    "    def add_shape(self, shape):\n",
    "        self.shapes.append(shape)\n",
    "\n",
    "    def clear(self):\n",
    "        self.shapes = []\n",
    "\n",
    "    def paint(self):\n",
    "        for shape in self.shapes:\n",
    "            shape.paint(self.draw)\n",
    "\n",
    "    def save_image(self, filename):\n",
    "        self.paint()\n",
    "        self.image.save(filename)\n",
    "\n",
    "    def load_image(self, filename):\n",
    "        self.image = Image.open(filename)\n",
    "        self.draw = ImageDraw.Draw(self.image)\n",
    "\n",
    "class Shape:\n",
    "    def paint(self, draw):\n",
    "        pass\n",
    "\n",
    "\n",
    "if __name__ == \"__main__\":\n",
    "    drawing = RasterDrawing(800, 600)\n",
    "\n",
    "    loaded_drawing = RasterDrawing(800, 600)\n",
    "    loaded_drawing.load_image('my_drawing.png')\n"
   ]
  },
  {
   "cell_type": "markdown",
   "metadata": {},
   "source": [
    "Write a function make_deck that returns a list of all of the cards in a standard card deck. The return should be a list of tuples of pairs of suit and value. For example the 10 of Clubs would be ('Clubs', 10) and Queen of Hearts would be ('Hearts', 'Queen'). Recall that a deck has 52 cards, divided into 4 suits (Clubs, Diamonds, Hearts, and Spades), and that each suit has 13 cards: 2 to 10, Jack, Queen, King, and Ace. Summit your solution with Lab 2."
   ]
  },
  {
   "cell_type": "code",
   "execution_count": 5,
   "metadata": {},
   "outputs": [
    {
     "name": "stdout",
     "output_type": "stream",
     "text": [
      "[('Clubs', '2'), ('Clubs', '3'), ('Clubs', '4'), ('Clubs', '5'), ('Clubs', '6'), ('Clubs', '7'), ('Clubs', '8'), ('Clubs', '9'), ('Clubs', '10'), ('Clubs', 'Jack'), ('Clubs', 'Queen'), ('Clubs', 'King'), ('Clubs', 'Ace'), ('Diamonds', '2'), ('Diamonds', '3'), ('Diamonds', '4'), ('Diamonds', '5'), ('Diamonds', '6'), ('Diamonds', '7'), ('Diamonds', '8'), ('Diamonds', '9'), ('Diamonds', '10'), ('Diamonds', 'Jack'), ('Diamonds', 'Queen'), ('Diamonds', 'King'), ('Diamonds', 'Ace'), ('Hearts', '2'), ('Hearts', '3'), ('Hearts', '4'), ('Hearts', '5'), ('Hearts', '6'), ('Hearts', '7'), ('Hearts', '8'), ('Hearts', '9'), ('Hearts', '10'), ('Hearts', 'Jack'), ('Hearts', 'Queen'), ('Hearts', 'King'), ('Hearts', 'Ace'), ('Spades', '2'), ('Spades', '3'), ('Spades', '4'), ('Spades', '5'), ('Spades', '6'), ('Spades', '7'), ('Spades', '8'), ('Spades', '9'), ('Spades', '10'), ('Spades', 'Jack'), ('Spades', 'Queen'), ('Spades', 'King'), ('Spades', 'Ace')]\n"
     ]
    }
   ],
   "source": [
    "def make_deck():\n",
    "    suits = ['Clubs', 'Diamonds', 'Hearts', 'Spades']\n",
    "    values = ['2', '3', '4', '5', '6', '7', '8', '9', '10', 'Jack', 'Queen', 'King', 'Ace']\n",
    "    deck = [(suit, value) for suit in suits for value in values]\n",
    "    return deck\n",
    "print(deck)"
   ]
  }
 ],
 "metadata": {
  "kernelspec": {
   "display_name": "Python 3 (ipykernel)",
   "language": "python",
   "name": "python3"
  },
  "language_info": {
   "codemirror_mode": {
    "name": "ipython",
    "version": 3
   },
   "file_extension": ".py",
   "mimetype": "text/x-python",
   "name": "python",
   "nbconvert_exporter": "python",
   "pygments_lexer": "ipython3",
   "version": "3.9.13"
  }
 },
 "nbformat": 4,
 "nbformat_minor": 2
}
